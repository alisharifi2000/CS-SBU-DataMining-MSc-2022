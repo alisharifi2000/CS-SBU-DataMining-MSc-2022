{
  "cells": [
    {
      "cell_type": "code",
      "execution_count": 112,
      "metadata": {
        "id": "B1rz8BS_uyAi"
      },
      "outputs": [],
      "source": [
        "import pandas as pd"
      ]
    },
    {
      "cell_type": "code",
      "execution_count": 113,
      "metadata": {
        "colab": {
          "base_uri": "https://localhost:8080/"
        },
        "id": "fT7Us6IZu93u",
        "outputId": "39d4ef21-a002-4851-9438-fc2d6e19299f"
      },
      "outputs": [
        {
          "output_type": "stream",
          "name": "stdout",
          "text": [
            "Drive already mounted at /gdrive; to attempt to forcibly remount, call drive.mount(\"/gdrive\", force_remount=True).\n"
          ]
        }
      ],
      "source": [
        "from google.colab import drive\n",
        "drive.mount('/gdrive')"
      ]
    },
    {
      "cell_type": "code",
      "execution_count": 114,
      "metadata": {
        "id": "KdAgdI31vwMX"
      },
      "outputs": [],
      "source": [
        "root = '/gdrive/MyDrive/mobile-classes/'\n",
        "mptr = pd.read_csv(root + 'train.csv')\n",
        "mpte = pd.read_csv(root + 'test.csv')"
      ]
    },
    {
      "cell_type": "code",
      "execution_count": 115,
      "metadata": {
        "colab": {
          "base_uri": "https://localhost:8080/",
          "height": 801
        },
        "id": "cecpbWzkwS31",
        "outputId": "1cf8ca16-d627-4796-99d7-28809c31f2af"
      },
      "outputs": [
        {
          "output_type": "execute_result",
          "data": {
            "text/plain": [
              "                  0       1       2       3       4       5       6       7    \\\n",
              "id                1.0     2.0     3.0     4.0     5.0     6.0     7.0     8.0   \n",
              "battery_power  1043.0   841.0  1807.0  1546.0  1434.0  1464.0  1718.0   833.0   \n",
              "blue              1.0     1.0     1.0     0.0     0.0     1.0     0.0     0.0   \n",
              "clock_speed       1.8     0.5     2.8     0.5     1.4     2.9     2.4     2.4   \n",
              "dual_sim          1.0     1.0     0.0     1.0     0.0     1.0     0.0     1.0   \n",
              "fc               14.0     4.0     1.0    18.0    11.0     5.0     1.0     0.0   \n",
              "four_g            0.0     1.0     0.0     1.0     1.0     1.0     0.0     0.0   \n",
              "int_memory        5.0    61.0    27.0    25.0    49.0    50.0    47.0    62.0   \n",
              "m_dep             0.1     0.8     0.9     0.5     0.5     0.8     1.0     0.8   \n",
              "mobile_wt       193.0   191.0   186.0    96.0   108.0   198.0   156.0   111.0   \n",
              "n_cores           3.0     5.0     3.0     8.0     6.0     8.0     2.0     1.0   \n",
              "pc               16.0    12.0     4.0    20.0    18.0     9.0     3.0     2.0   \n",
              "px_height       226.0   746.0  1270.0   295.0   749.0   569.0  1283.0  1312.0   \n",
              "px_width       1412.0   857.0  1366.0  1752.0   810.0   939.0  1374.0  1880.0   \n",
              "ram            3476.0  3895.0  2396.0  3893.0  1773.0  3506.0  3873.0  1495.0   \n",
              "sc_h             12.0     6.0    17.0    10.0    15.0    10.0    14.0     7.0   \n",
              "sc_w              7.0     0.0    10.0     0.0     8.0     7.0     2.0     2.0   \n",
              "talk_time         2.0     7.0    10.0     7.0     7.0     3.0    10.0    18.0   \n",
              "three_g           0.0     1.0     0.0     1.0     1.0     1.0     0.0     0.0   \n",
              "touch_screen      1.0     0.0     1.0     1.0     0.0     1.0     0.0     1.0   \n",
              "wifi              0.0     0.0     1.0     0.0     1.0     1.0     0.0     1.0   \n",
              "\n",
              "                  8       9    ...     990     991     992     993    994  \\\n",
              "id                9.0    10.0  ...   991.0   992.0   993.0   994.0  995.0   \n",
              "battery_power  1111.0  1520.0  ...  1807.0  1797.0  1895.0   567.0  936.0   \n",
              "blue              1.0     0.0  ...     0.0     1.0     0.0     1.0    1.0   \n",
              "clock_speed       2.9     0.5  ...     1.2     2.6     0.5     2.7    1.4   \n",
              "dual_sim          1.0     0.0  ...     0.0     0.0     1.0     1.0    1.0   \n",
              "fc                9.0     1.0  ...     4.0     4.0     0.0    14.0    0.0   \n",
              "four_g            1.0     0.0  ...     0.0     0.0     1.0     1.0    0.0   \n",
              "int_memory       25.0    25.0  ...    37.0    42.0    62.0    56.0   46.0   \n",
              "m_dep             0.6     0.5  ...     0.8     0.6     0.9     0.4    0.8   \n",
              "mobile_wt       101.0   171.0  ...   162.0   174.0    99.0   165.0  139.0   \n",
              "n_cores           5.0     3.0  ...     1.0     3.0     2.0     8.0    2.0   \n",
              "pc               19.0    20.0  ...    11.0    20.0     0.0    17.0    0.0   \n",
              "px_height       556.0    52.0  ...   246.0    57.0  1019.0   555.0  265.0   \n",
              "px_width        876.0  1009.0  ...   932.0  1169.0  1698.0  1290.0  886.0   \n",
              "ram            3485.0   651.0  ...  2741.0  3359.0  2563.0   336.0  684.0   \n",
              "sc_h             11.0     6.0  ...     7.0    16.0    10.0     7.0    8.0   \n",
              "sc_w              9.0     0.0  ...     1.0     6.0     8.0     6.0    5.0   \n",
              "talk_time        10.0     5.0  ...     9.0    18.0    13.0     7.0   12.0   \n",
              "three_g           1.0     1.0  ...     1.0     1.0     1.0     1.0    1.0   \n",
              "touch_screen      1.0     0.0  ...     1.0     1.0     0.0     1.0    1.0   \n",
              "wifi              0.0     1.0  ...     1.0     1.0     1.0     1.0    1.0   \n",
              "\n",
              "                  995     996     997     998     999  \n",
              "id              996.0   997.0   998.0   999.0  1000.0  \n",
              "battery_power  1700.0   609.0  1185.0  1533.0  1270.0  \n",
              "blue              1.0     0.0     0.0     1.0     1.0  \n",
              "clock_speed       1.9     1.8     1.4     0.5     0.5  \n",
              "dual_sim          0.0     1.0     0.0     1.0     0.0  \n",
              "fc                0.0     0.0     1.0     0.0     4.0  \n",
              "four_g            1.0     0.0     1.0     0.0     1.0  \n",
              "int_memory       54.0    13.0     8.0    50.0    35.0  \n",
              "m_dep             0.5     0.9     0.5     0.4     0.1  \n",
              "mobile_wt       170.0   186.0    80.0   171.0   140.0  \n",
              "n_cores           7.0     4.0     1.0     2.0     6.0  \n",
              "pc               17.0     2.0    12.0    12.0    19.0  \n",
              "px_height       644.0  1152.0   477.0    38.0   457.0  \n",
              "px_width        913.0  1632.0   825.0   832.0   608.0  \n",
              "ram            2121.0  1933.0  1223.0  2509.0  2828.0  \n",
              "sc_h             14.0     8.0     5.0    15.0     9.0  \n",
              "sc_w              8.0     1.0     0.0    11.0     2.0  \n",
              "talk_time        15.0    19.0    14.0     6.0     3.0  \n",
              "three_g           1.0     0.0     1.0     0.0     1.0  \n",
              "touch_screen      1.0     1.0     0.0     1.0     0.0  \n",
              "wifi              0.0     1.0     0.0     0.0     1.0  \n",
              "\n",
              "[21 rows x 1000 columns]"
            ],
            "text/html": [
              "\n",
              "  <div id=\"df-708e81f6-943b-44c2-8e90-103eccf9008b\">\n",
              "    <div class=\"colab-df-container\">\n",
              "      <div>\n",
              "<style scoped>\n",
              "    .dataframe tbody tr th:only-of-type {\n",
              "        vertical-align: middle;\n",
              "    }\n",
              "\n",
              "    .dataframe tbody tr th {\n",
              "        vertical-align: top;\n",
              "    }\n",
              "\n",
              "    .dataframe thead th {\n",
              "        text-align: right;\n",
              "    }\n",
              "</style>\n",
              "<table border=\"1\" class=\"dataframe\">\n",
              "  <thead>\n",
              "    <tr style=\"text-align: right;\">\n",
              "      <th></th>\n",
              "      <th>0</th>\n",
              "      <th>1</th>\n",
              "      <th>2</th>\n",
              "      <th>3</th>\n",
              "      <th>4</th>\n",
              "      <th>5</th>\n",
              "      <th>6</th>\n",
              "      <th>7</th>\n",
              "      <th>8</th>\n",
              "      <th>9</th>\n",
              "      <th>...</th>\n",
              "      <th>990</th>\n",
              "      <th>991</th>\n",
              "      <th>992</th>\n",
              "      <th>993</th>\n",
              "      <th>994</th>\n",
              "      <th>995</th>\n",
              "      <th>996</th>\n",
              "      <th>997</th>\n",
              "      <th>998</th>\n",
              "      <th>999</th>\n",
              "    </tr>\n",
              "  </thead>\n",
              "  <tbody>\n",
              "    <tr>\n",
              "      <th>id</th>\n",
              "      <td>1.0</td>\n",
              "      <td>2.0</td>\n",
              "      <td>3.0</td>\n",
              "      <td>4.0</td>\n",
              "      <td>5.0</td>\n",
              "      <td>6.0</td>\n",
              "      <td>7.0</td>\n",
              "      <td>8.0</td>\n",
              "      <td>9.0</td>\n",
              "      <td>10.0</td>\n",
              "      <td>...</td>\n",
              "      <td>991.0</td>\n",
              "      <td>992.0</td>\n",
              "      <td>993.0</td>\n",
              "      <td>994.0</td>\n",
              "      <td>995.0</td>\n",
              "      <td>996.0</td>\n",
              "      <td>997.0</td>\n",
              "      <td>998.0</td>\n",
              "      <td>999.0</td>\n",
              "      <td>1000.0</td>\n",
              "    </tr>\n",
              "    <tr>\n",
              "      <th>battery_power</th>\n",
              "      <td>1043.0</td>\n",
              "      <td>841.0</td>\n",
              "      <td>1807.0</td>\n",
              "      <td>1546.0</td>\n",
              "      <td>1434.0</td>\n",
              "      <td>1464.0</td>\n",
              "      <td>1718.0</td>\n",
              "      <td>833.0</td>\n",
              "      <td>1111.0</td>\n",
              "      <td>1520.0</td>\n",
              "      <td>...</td>\n",
              "      <td>1807.0</td>\n",
              "      <td>1797.0</td>\n",
              "      <td>1895.0</td>\n",
              "      <td>567.0</td>\n",
              "      <td>936.0</td>\n",
              "      <td>1700.0</td>\n",
              "      <td>609.0</td>\n",
              "      <td>1185.0</td>\n",
              "      <td>1533.0</td>\n",
              "      <td>1270.0</td>\n",
              "    </tr>\n",
              "    <tr>\n",
              "      <th>blue</th>\n",
              "      <td>1.0</td>\n",
              "      <td>1.0</td>\n",
              "      <td>1.0</td>\n",
              "      <td>0.0</td>\n",
              "      <td>0.0</td>\n",
              "      <td>1.0</td>\n",
              "      <td>0.0</td>\n",
              "      <td>0.0</td>\n",
              "      <td>1.0</td>\n",
              "      <td>0.0</td>\n",
              "      <td>...</td>\n",
              "      <td>0.0</td>\n",
              "      <td>1.0</td>\n",
              "      <td>0.0</td>\n",
              "      <td>1.0</td>\n",
              "      <td>1.0</td>\n",
              "      <td>1.0</td>\n",
              "      <td>0.0</td>\n",
              "      <td>0.0</td>\n",
              "      <td>1.0</td>\n",
              "      <td>1.0</td>\n",
              "    </tr>\n",
              "    <tr>\n",
              "      <th>clock_speed</th>\n",
              "      <td>1.8</td>\n",
              "      <td>0.5</td>\n",
              "      <td>2.8</td>\n",
              "      <td>0.5</td>\n",
              "      <td>1.4</td>\n",
              "      <td>2.9</td>\n",
              "      <td>2.4</td>\n",
              "      <td>2.4</td>\n",
              "      <td>2.9</td>\n",
              "      <td>0.5</td>\n",
              "      <td>...</td>\n",
              "      <td>1.2</td>\n",
              "      <td>2.6</td>\n",
              "      <td>0.5</td>\n",
              "      <td>2.7</td>\n",
              "      <td>1.4</td>\n",
              "      <td>1.9</td>\n",
              "      <td>1.8</td>\n",
              "      <td>1.4</td>\n",
              "      <td>0.5</td>\n",
              "      <td>0.5</td>\n",
              "    </tr>\n",
              "    <tr>\n",
              "      <th>dual_sim</th>\n",
              "      <td>1.0</td>\n",
              "      <td>1.0</td>\n",
              "      <td>0.0</td>\n",
              "      <td>1.0</td>\n",
              "      <td>0.0</td>\n",
              "      <td>1.0</td>\n",
              "      <td>0.0</td>\n",
              "      <td>1.0</td>\n",
              "      <td>1.0</td>\n",
              "      <td>0.0</td>\n",
              "      <td>...</td>\n",
              "      <td>0.0</td>\n",
              "      <td>0.0</td>\n",
              "      <td>1.0</td>\n",
              "      <td>1.0</td>\n",
              "      <td>1.0</td>\n",
              "      <td>0.0</td>\n",
              "      <td>1.0</td>\n",
              "      <td>0.0</td>\n",
              "      <td>1.0</td>\n",
              "      <td>0.0</td>\n",
              "    </tr>\n",
              "    <tr>\n",
              "      <th>fc</th>\n",
              "      <td>14.0</td>\n",
              "      <td>4.0</td>\n",
              "      <td>1.0</td>\n",
              "      <td>18.0</td>\n",
              "      <td>11.0</td>\n",
              "      <td>5.0</td>\n",
              "      <td>1.0</td>\n",
              "      <td>0.0</td>\n",
              "      <td>9.0</td>\n",
              "      <td>1.0</td>\n",
              "      <td>...</td>\n",
              "      <td>4.0</td>\n",
              "      <td>4.0</td>\n",
              "      <td>0.0</td>\n",
              "      <td>14.0</td>\n",
              "      <td>0.0</td>\n",
              "      <td>0.0</td>\n",
              "      <td>0.0</td>\n",
              "      <td>1.0</td>\n",
              "      <td>0.0</td>\n",
              "      <td>4.0</td>\n",
              "    </tr>\n",
              "    <tr>\n",
              "      <th>four_g</th>\n",
              "      <td>0.0</td>\n",
              "      <td>1.0</td>\n",
              "      <td>0.0</td>\n",
              "      <td>1.0</td>\n",
              "      <td>1.0</td>\n",
              "      <td>1.0</td>\n",
              "      <td>0.0</td>\n",
              "      <td>0.0</td>\n",
              "      <td>1.0</td>\n",
              "      <td>0.0</td>\n",
              "      <td>...</td>\n",
              "      <td>0.0</td>\n",
              "      <td>0.0</td>\n",
              "      <td>1.0</td>\n",
              "      <td>1.0</td>\n",
              "      <td>0.0</td>\n",
              "      <td>1.0</td>\n",
              "      <td>0.0</td>\n",
              "      <td>1.0</td>\n",
              "      <td>0.0</td>\n",
              "      <td>1.0</td>\n",
              "    </tr>\n",
              "    <tr>\n",
              "      <th>int_memory</th>\n",
              "      <td>5.0</td>\n",
              "      <td>61.0</td>\n",
              "      <td>27.0</td>\n",
              "      <td>25.0</td>\n",
              "      <td>49.0</td>\n",
              "      <td>50.0</td>\n",
              "      <td>47.0</td>\n",
              "      <td>62.0</td>\n",
              "      <td>25.0</td>\n",
              "      <td>25.0</td>\n",
              "      <td>...</td>\n",
              "      <td>37.0</td>\n",
              "      <td>42.0</td>\n",
              "      <td>62.0</td>\n",
              "      <td>56.0</td>\n",
              "      <td>46.0</td>\n",
              "      <td>54.0</td>\n",
              "      <td>13.0</td>\n",
              "      <td>8.0</td>\n",
              "      <td>50.0</td>\n",
              "      <td>35.0</td>\n",
              "    </tr>\n",
              "    <tr>\n",
              "      <th>m_dep</th>\n",
              "      <td>0.1</td>\n",
              "      <td>0.8</td>\n",
              "      <td>0.9</td>\n",
              "      <td>0.5</td>\n",
              "      <td>0.5</td>\n",
              "      <td>0.8</td>\n",
              "      <td>1.0</td>\n",
              "      <td>0.8</td>\n",
              "      <td>0.6</td>\n",
              "      <td>0.5</td>\n",
              "      <td>...</td>\n",
              "      <td>0.8</td>\n",
              "      <td>0.6</td>\n",
              "      <td>0.9</td>\n",
              "      <td>0.4</td>\n",
              "      <td>0.8</td>\n",
              "      <td>0.5</td>\n",
              "      <td>0.9</td>\n",
              "      <td>0.5</td>\n",
              "      <td>0.4</td>\n",
              "      <td>0.1</td>\n",
              "    </tr>\n",
              "    <tr>\n",
              "      <th>mobile_wt</th>\n",
              "      <td>193.0</td>\n",
              "      <td>191.0</td>\n",
              "      <td>186.0</td>\n",
              "      <td>96.0</td>\n",
              "      <td>108.0</td>\n",
              "      <td>198.0</td>\n",
              "      <td>156.0</td>\n",
              "      <td>111.0</td>\n",
              "      <td>101.0</td>\n",
              "      <td>171.0</td>\n",
              "      <td>...</td>\n",
              "      <td>162.0</td>\n",
              "      <td>174.0</td>\n",
              "      <td>99.0</td>\n",
              "      <td>165.0</td>\n",
              "      <td>139.0</td>\n",
              "      <td>170.0</td>\n",
              "      <td>186.0</td>\n",
              "      <td>80.0</td>\n",
              "      <td>171.0</td>\n",
              "      <td>140.0</td>\n",
              "    </tr>\n",
              "    <tr>\n",
              "      <th>n_cores</th>\n",
              "      <td>3.0</td>\n",
              "      <td>5.0</td>\n",
              "      <td>3.0</td>\n",
              "      <td>8.0</td>\n",
              "      <td>6.0</td>\n",
              "      <td>8.0</td>\n",
              "      <td>2.0</td>\n",
              "      <td>1.0</td>\n",
              "      <td>5.0</td>\n",
              "      <td>3.0</td>\n",
              "      <td>...</td>\n",
              "      <td>1.0</td>\n",
              "      <td>3.0</td>\n",
              "      <td>2.0</td>\n",
              "      <td>8.0</td>\n",
              "      <td>2.0</td>\n",
              "      <td>7.0</td>\n",
              "      <td>4.0</td>\n",
              "      <td>1.0</td>\n",
              "      <td>2.0</td>\n",
              "      <td>6.0</td>\n",
              "    </tr>\n",
              "    <tr>\n",
              "      <th>pc</th>\n",
              "      <td>16.0</td>\n",
              "      <td>12.0</td>\n",
              "      <td>4.0</td>\n",
              "      <td>20.0</td>\n",
              "      <td>18.0</td>\n",
              "      <td>9.0</td>\n",
              "      <td>3.0</td>\n",
              "      <td>2.0</td>\n",
              "      <td>19.0</td>\n",
              "      <td>20.0</td>\n",
              "      <td>...</td>\n",
              "      <td>11.0</td>\n",
              "      <td>20.0</td>\n",
              "      <td>0.0</td>\n",
              "      <td>17.0</td>\n",
              "      <td>0.0</td>\n",
              "      <td>17.0</td>\n",
              "      <td>2.0</td>\n",
              "      <td>12.0</td>\n",
              "      <td>12.0</td>\n",
              "      <td>19.0</td>\n",
              "    </tr>\n",
              "    <tr>\n",
              "      <th>px_height</th>\n",
              "      <td>226.0</td>\n",
              "      <td>746.0</td>\n",
              "      <td>1270.0</td>\n",
              "      <td>295.0</td>\n",
              "      <td>749.0</td>\n",
              "      <td>569.0</td>\n",
              "      <td>1283.0</td>\n",
              "      <td>1312.0</td>\n",
              "      <td>556.0</td>\n",
              "      <td>52.0</td>\n",
              "      <td>...</td>\n",
              "      <td>246.0</td>\n",
              "      <td>57.0</td>\n",
              "      <td>1019.0</td>\n",
              "      <td>555.0</td>\n",
              "      <td>265.0</td>\n",
              "      <td>644.0</td>\n",
              "      <td>1152.0</td>\n",
              "      <td>477.0</td>\n",
              "      <td>38.0</td>\n",
              "      <td>457.0</td>\n",
              "    </tr>\n",
              "    <tr>\n",
              "      <th>px_width</th>\n",
              "      <td>1412.0</td>\n",
              "      <td>857.0</td>\n",
              "      <td>1366.0</td>\n",
              "      <td>1752.0</td>\n",
              "      <td>810.0</td>\n",
              "      <td>939.0</td>\n",
              "      <td>1374.0</td>\n",
              "      <td>1880.0</td>\n",
              "      <td>876.0</td>\n",
              "      <td>1009.0</td>\n",
              "      <td>...</td>\n",
              "      <td>932.0</td>\n",
              "      <td>1169.0</td>\n",
              "      <td>1698.0</td>\n",
              "      <td>1290.0</td>\n",
              "      <td>886.0</td>\n",
              "      <td>913.0</td>\n",
              "      <td>1632.0</td>\n",
              "      <td>825.0</td>\n",
              "      <td>832.0</td>\n",
              "      <td>608.0</td>\n",
              "    </tr>\n",
              "    <tr>\n",
              "      <th>ram</th>\n",
              "      <td>3476.0</td>\n",
              "      <td>3895.0</td>\n",
              "      <td>2396.0</td>\n",
              "      <td>3893.0</td>\n",
              "      <td>1773.0</td>\n",
              "      <td>3506.0</td>\n",
              "      <td>3873.0</td>\n",
              "      <td>1495.0</td>\n",
              "      <td>3485.0</td>\n",
              "      <td>651.0</td>\n",
              "      <td>...</td>\n",
              "      <td>2741.0</td>\n",
              "      <td>3359.0</td>\n",
              "      <td>2563.0</td>\n",
              "      <td>336.0</td>\n",
              "      <td>684.0</td>\n",
              "      <td>2121.0</td>\n",
              "      <td>1933.0</td>\n",
              "      <td>1223.0</td>\n",
              "      <td>2509.0</td>\n",
              "      <td>2828.0</td>\n",
              "    </tr>\n",
              "    <tr>\n",
              "      <th>sc_h</th>\n",
              "      <td>12.0</td>\n",
              "      <td>6.0</td>\n",
              "      <td>17.0</td>\n",
              "      <td>10.0</td>\n",
              "      <td>15.0</td>\n",
              "      <td>10.0</td>\n",
              "      <td>14.0</td>\n",
              "      <td>7.0</td>\n",
              "      <td>11.0</td>\n",
              "      <td>6.0</td>\n",
              "      <td>...</td>\n",
              "      <td>7.0</td>\n",
              "      <td>16.0</td>\n",
              "      <td>10.0</td>\n",
              "      <td>7.0</td>\n",
              "      <td>8.0</td>\n",
              "      <td>14.0</td>\n",
              "      <td>8.0</td>\n",
              "      <td>5.0</td>\n",
              "      <td>15.0</td>\n",
              "      <td>9.0</td>\n",
              "    </tr>\n",
              "    <tr>\n",
              "      <th>sc_w</th>\n",
              "      <td>7.0</td>\n",
              "      <td>0.0</td>\n",
              "      <td>10.0</td>\n",
              "      <td>0.0</td>\n",
              "      <td>8.0</td>\n",
              "      <td>7.0</td>\n",
              "      <td>2.0</td>\n",
              "      <td>2.0</td>\n",
              "      <td>9.0</td>\n",
              "      <td>0.0</td>\n",
              "      <td>...</td>\n",
              "      <td>1.0</td>\n",
              "      <td>6.0</td>\n",
              "      <td>8.0</td>\n",
              "      <td>6.0</td>\n",
              "      <td>5.0</td>\n",
              "      <td>8.0</td>\n",
              "      <td>1.0</td>\n",
              "      <td>0.0</td>\n",
              "      <td>11.0</td>\n",
              "      <td>2.0</td>\n",
              "    </tr>\n",
              "    <tr>\n",
              "      <th>talk_time</th>\n",
              "      <td>2.0</td>\n",
              "      <td>7.0</td>\n",
              "      <td>10.0</td>\n",
              "      <td>7.0</td>\n",
              "      <td>7.0</td>\n",
              "      <td>3.0</td>\n",
              "      <td>10.0</td>\n",
              "      <td>18.0</td>\n",
              "      <td>10.0</td>\n",
              "      <td>5.0</td>\n",
              "      <td>...</td>\n",
              "      <td>9.0</td>\n",
              "      <td>18.0</td>\n",
              "      <td>13.0</td>\n",
              "      <td>7.0</td>\n",
              "      <td>12.0</td>\n",
              "      <td>15.0</td>\n",
              "      <td>19.0</td>\n",
              "      <td>14.0</td>\n",
              "      <td>6.0</td>\n",
              "      <td>3.0</td>\n",
              "    </tr>\n",
              "    <tr>\n",
              "      <th>three_g</th>\n",
              "      <td>0.0</td>\n",
              "      <td>1.0</td>\n",
              "      <td>0.0</td>\n",
              "      <td>1.0</td>\n",
              "      <td>1.0</td>\n",
              "      <td>1.0</td>\n",
              "      <td>0.0</td>\n",
              "      <td>0.0</td>\n",
              "      <td>1.0</td>\n",
              "      <td>1.0</td>\n",
              "      <td>...</td>\n",
              "      <td>1.0</td>\n",
              "      <td>1.0</td>\n",
              "      <td>1.0</td>\n",
              "      <td>1.0</td>\n",
              "      <td>1.0</td>\n",
              "      <td>1.0</td>\n",
              "      <td>0.0</td>\n",
              "      <td>1.0</td>\n",
              "      <td>0.0</td>\n",
              "      <td>1.0</td>\n",
              "    </tr>\n",
              "    <tr>\n",
              "      <th>touch_screen</th>\n",
              "      <td>1.0</td>\n",
              "      <td>0.0</td>\n",
              "      <td>1.0</td>\n",
              "      <td>1.0</td>\n",
              "      <td>0.0</td>\n",
              "      <td>1.0</td>\n",
              "      <td>0.0</td>\n",
              "      <td>1.0</td>\n",
              "      <td>1.0</td>\n",
              "      <td>0.0</td>\n",
              "      <td>...</td>\n",
              "      <td>1.0</td>\n",
              "      <td>1.0</td>\n",
              "      <td>0.0</td>\n",
              "      <td>1.0</td>\n",
              "      <td>1.0</td>\n",
              "      <td>1.0</td>\n",
              "      <td>1.0</td>\n",
              "      <td>0.0</td>\n",
              "      <td>1.0</td>\n",
              "      <td>0.0</td>\n",
              "    </tr>\n",
              "    <tr>\n",
              "      <th>wifi</th>\n",
              "      <td>0.0</td>\n",
              "      <td>0.0</td>\n",
              "      <td>1.0</td>\n",
              "      <td>0.0</td>\n",
              "      <td>1.0</td>\n",
              "      <td>1.0</td>\n",
              "      <td>0.0</td>\n",
              "      <td>1.0</td>\n",
              "      <td>0.0</td>\n",
              "      <td>1.0</td>\n",
              "      <td>...</td>\n",
              "      <td>1.0</td>\n",
              "      <td>1.0</td>\n",
              "      <td>1.0</td>\n",
              "      <td>1.0</td>\n",
              "      <td>1.0</td>\n",
              "      <td>0.0</td>\n",
              "      <td>1.0</td>\n",
              "      <td>0.0</td>\n",
              "      <td>0.0</td>\n",
              "      <td>1.0</td>\n",
              "    </tr>\n",
              "  </tbody>\n",
              "</table>\n",
              "<p>21 rows × 1000 columns</p>\n",
              "</div>\n",
              "      <button class=\"colab-df-convert\" onclick=\"convertToInteractive('df-708e81f6-943b-44c2-8e90-103eccf9008b')\"\n",
              "              title=\"Convert this dataframe to an interactive table.\"\n",
              "              style=\"display:none;\">\n",
              "        \n",
              "  <svg xmlns=\"http://www.w3.org/2000/svg\" height=\"24px\"viewBox=\"0 0 24 24\"\n",
              "       width=\"24px\">\n",
              "    <path d=\"M0 0h24v24H0V0z\" fill=\"none\"/>\n",
              "    <path d=\"M18.56 5.44l.94 2.06.94-2.06 2.06-.94-2.06-.94-.94-2.06-.94 2.06-2.06.94zm-11 1L8.5 8.5l.94-2.06 2.06-.94-2.06-.94L8.5 2.5l-.94 2.06-2.06.94zm10 10l.94 2.06.94-2.06 2.06-.94-2.06-.94-.94-2.06-.94 2.06-2.06.94z\"/><path d=\"M17.41 7.96l-1.37-1.37c-.4-.4-.92-.59-1.43-.59-.52 0-1.04.2-1.43.59L10.3 9.45l-7.72 7.72c-.78.78-.78 2.05 0 2.83L4 21.41c.39.39.9.59 1.41.59.51 0 1.02-.2 1.41-.59l7.78-7.78 2.81-2.81c.8-.78.8-2.07 0-2.86zM5.41 20L4 18.59l7.72-7.72 1.47 1.35L5.41 20z\"/>\n",
              "  </svg>\n",
              "      </button>\n",
              "      \n",
              "  <style>\n",
              "    .colab-df-container {\n",
              "      display:flex;\n",
              "      flex-wrap:wrap;\n",
              "      gap: 12px;\n",
              "    }\n",
              "\n",
              "    .colab-df-convert {\n",
              "      background-color: #E8F0FE;\n",
              "      border: none;\n",
              "      border-radius: 50%;\n",
              "      cursor: pointer;\n",
              "      display: none;\n",
              "      fill: #1967D2;\n",
              "      height: 32px;\n",
              "      padding: 0 0 0 0;\n",
              "      width: 32px;\n",
              "    }\n",
              "\n",
              "    .colab-df-convert:hover {\n",
              "      background-color: #E2EBFA;\n",
              "      box-shadow: 0px 1px 2px rgba(60, 64, 67, 0.3), 0px 1px 3px 1px rgba(60, 64, 67, 0.15);\n",
              "      fill: #174EA6;\n",
              "    }\n",
              "\n",
              "    [theme=dark] .colab-df-convert {\n",
              "      background-color: #3B4455;\n",
              "      fill: #D2E3FC;\n",
              "    }\n",
              "\n",
              "    [theme=dark] .colab-df-convert:hover {\n",
              "      background-color: #434B5C;\n",
              "      box-shadow: 0px 1px 3px 1px rgba(0, 0, 0, 0.15);\n",
              "      filter: drop-shadow(0px 1px 2px rgba(0, 0, 0, 0.3));\n",
              "      fill: #FFFFFF;\n",
              "    }\n",
              "  </style>\n",
              "\n",
              "      <script>\n",
              "        const buttonEl =\n",
              "          document.querySelector('#df-708e81f6-943b-44c2-8e90-103eccf9008b button.colab-df-convert');\n",
              "        buttonEl.style.display =\n",
              "          google.colab.kernel.accessAllowed ? 'block' : 'none';\n",
              "\n",
              "        async function convertToInteractive(key) {\n",
              "          const element = document.querySelector('#df-708e81f6-943b-44c2-8e90-103eccf9008b');\n",
              "          const dataTable =\n",
              "            await google.colab.kernel.invokeFunction('convertToInteractive',\n",
              "                                                     [key], {});\n",
              "          if (!dataTable) return;\n",
              "\n",
              "          const docLinkHtml = 'Like what you see? Visit the ' +\n",
              "            '<a target=\"_blank\" href=https://colab.research.google.com/notebooks/data_table.ipynb>data table notebook</a>'\n",
              "            + ' to learn more about interactive tables.';\n",
              "          element.innerHTML = '';\n",
              "          dataTable['output_type'] = 'display_data';\n",
              "          await google.colab.output.renderOutput(dataTable, element);\n",
              "          const docLink = document.createElement('div');\n",
              "          docLink.innerHTML = docLinkHtml;\n",
              "          element.appendChild(docLink);\n",
              "        }\n",
              "      </script>\n",
              "    </div>\n",
              "  </div>\n",
              "  "
            ]
          },
          "metadata": {},
          "execution_count": 115
        }
      ],
      "source": [
        "mpte.T"
      ]
    },
    {
      "cell_type": "code",
      "execution_count": 116,
      "metadata": {
        "colab": {
          "base_uri": "https://localhost:8080/"
        },
        "id": "jdrV_eDm41du",
        "outputId": "4f9f87af-ec31-4efe-b700-1e8b31667ada"
      },
      "outputs": [
        {
          "output_type": "execute_result",
          "data": {
            "text/plain": [
              "battery_power    0\n",
              "blue             0\n",
              "clock_speed      0\n",
              "dual_sim         0\n",
              "fc               0\n",
              "four_g           0\n",
              "int_memory       0\n",
              "m_dep            0\n",
              "mobile_wt        0\n",
              "n_cores          0\n",
              "pc               0\n",
              "px_height        0\n",
              "px_width         0\n",
              "ram              0\n",
              "sc_h             0\n",
              "sc_w             0\n",
              "talk_time        0\n",
              "three_g          0\n",
              "touch_screen     0\n",
              "wifi             0\n",
              "price_range      0\n",
              "dtype: int64"
            ]
          },
          "metadata": {},
          "execution_count": 116
        }
      ],
      "source": [
        "mptr.isnull().sum()"
      ]
    },
    {
      "cell_type": "code",
      "execution_count": 117,
      "metadata": {
        "colab": {
          "base_uri": "https://localhost:8080/"
        },
        "id": "LfA95STXxHA8",
        "outputId": "297f0761-db35-4eae-9adc-a62cba47c462"
      },
      "outputs": [
        {
          "output_type": "execute_result",
          "data": {
            "text/plain": [
              "array([1, 2, 3, 0])"
            ]
          },
          "metadata": {},
          "execution_count": 117
        }
      ],
      "source": [
        "mptr.price_range.unique()"
      ]
    },
    {
      "cell_type": "code",
      "execution_count": 118,
      "metadata": {
        "id": "CYdP1vRP0KDj"
      },
      "outputs": [],
      "source": [
        "def price(x):\n",
        "  if (x==0 or x==1):\n",
        "    return '0'\n",
        "  else:\n",
        "    return '1'"
      ]
    },
    {
      "cell_type": "code",
      "execution_count": 119,
      "metadata": {
        "id": "3xVhLLSB05zu"
      },
      "outputs": [],
      "source": [
        "mptr.price_range = mptr.price_range.apply(price)"
      ]
    },
    {
      "cell_type": "code",
      "execution_count": 120,
      "metadata": {
        "colab": {
          "base_uri": "https://localhost:8080/"
        },
        "id": "w6DOSMfy1ImK",
        "outputId": "094857d0-6f34-4d20-8b03-0fae6ea1c86e"
      },
      "outputs": [
        {
          "output_type": "execute_result",
          "data": {
            "text/plain": [
              "array(['0', '1'], dtype=object)"
            ]
          },
          "metadata": {},
          "execution_count": 120
        }
      ],
      "source": [
        "mptr.price_range.unique()"
      ]
    },
    {
      "cell_type": "code",
      "source": [
        "y = mptr['price_range']\n",
        "y.values.reshape(-1, 1)\n",
        "y"
      ],
      "metadata": {
        "colab": {
          "base_uri": "https://localhost:8080/"
        },
        "id": "v7YP0X994nG6",
        "outputId": "04707d77-b47e-4786-c6d0-d561bb33fa58"
      },
      "execution_count": 121,
      "outputs": [
        {
          "output_type": "execute_result",
          "data": {
            "text/plain": [
              "0       0\n",
              "1       1\n",
              "2       1\n",
              "3       1\n",
              "4       0\n",
              "       ..\n",
              "1995    0\n",
              "1996    1\n",
              "1997    1\n",
              "1998    0\n",
              "1999    1\n",
              "Name: price_range, Length: 2000, dtype: object"
            ]
          },
          "metadata": {},
          "execution_count": 121
        }
      ]
    },
    {
      "cell_type": "code",
      "source": [
        "from sklearn.model_selection import train_test_split\n",
        "from sklearn.linear_model import LogisticRegression\n",
        "from sklearn.metrics import roc_auc_score\n",
        "def forwards(df, target, precission):\n",
        "    results = dict()\n",
        "    features = df.columns.tolist()\n",
        "    selected_features = []\n",
        "    count = 0\n",
        "    while(len(features) > 1):\n",
        "        for i in features:\n",
        "          X = df[selected_features]\n",
        "          X = X.join(df[i])\n",
        "          trainX, testX, trainy, testy = train_test_split(X, y, test_size=0.2, random_state=3)\n",
        "          model = LogisticRegression(solver='liblinear', C=10.0, random_state=0)\n",
        "          if count == 0:\n",
        "           model.fit(trainX.values.reshape(-1,1), trainy)\n",
        "           score = roc_auc_score(testy, model.predict(testX.values.reshape(-1,1)))\n",
        "           count = count+1\n",
        "          else:\n",
        "            model.fit(trainX, trainy)\n",
        "            score = roc_auc_score(testy, model.predict(testX))\n",
        "          results[i] = score\n",
        "        selected = max(results, key=results.get)\n",
        "        features.remove(selected)\n",
        "        selected_features.append(selected)\n",
        "        br = results[selected]\n",
        "        if (results[selected] > precission):\n",
        "           break\n",
        "        del results[selected]\n",
        "    return selected_features"
      ],
      "metadata": {
        "id": "hRsmltfrKV_1"
      },
      "execution_count": 123,
      "outputs": []
    },
    {
      "cell_type": "code",
      "source": [
        "import statsmodels.api as sm\n",
        "import numpy as np\n",
        "def backwards(df, target, alpha):\n",
        "    results = dict()\n",
        "    selected_features = df.columns.tolist()\n",
        "    count = 0\n",
        "    while(len(selected_features) > 1):\n",
        "      for i in selected_features:\n",
        "        if count == 0:\n",
        "          a = df[selected_features]\n",
        "          fit = sm.OLS(y.astype(float), a.astype(float)).fit()\n",
        "          score = fit.pvalues.loc[i]\n",
        "          results[i] = score\n",
        "          count +=1\n",
        "        else:\n",
        "          a = df[selected_features]\n",
        "          fit = sm.OLS(y.astype(float), a.astype(float)).fit()\n",
        "          score = fit.pvalues.loc[i]\n",
        "          results[i] = score\n",
        "      selected = max(results, key=results.get)\n",
        "      rvalues = results.values()\n",
        "      nscore = max(rvalues)\n",
        "      selected_features.remove(selected)\n",
        "      results = dict()\n",
        "      if (nscore<alpha):\n",
        "        break\n",
        "    return selected_features"
      ],
      "metadata": {
        "id": "Ckc3cZcoAjru"
      },
      "execution_count": 162,
      "outputs": []
    },
    {
      "cell_type": "code",
      "source": [
        "mptr2 = mptr.copy()\n",
        "y = mptr2['price_range']\n",
        "mptr2.drop(['price_range'],axis = 1, inplace = True)\n",
        "forwards(mptr2,y,0.98)"
      ],
      "metadata": {
        "colab": {
          "base_uri": "https://localhost:8080/"
        },
        "id": "BFinB_egDk1S",
        "outputId": "c5452ed6-18f5-44ed-8e6d-0a4b00dc261c"
      },
      "execution_count": 127,
      "outputs": [
        {
          "output_type": "execute_result",
          "data": {
            "text/plain": [
              "['ram', 'px_height', 'battery_power', 'px_width', 'm_dep']"
            ]
          },
          "metadata": {},
          "execution_count": 127
        }
      ]
    },
    {
      "cell_type": "code",
      "source": [
        "mptr2 = mptr.copy()\n",
        "y = mptr2['price_range']\n",
        "mptr2.drop(['price_range'],axis = 1, inplace = True)\n",
        "backwards(mptr2,y,0.01)"
      ],
      "metadata": {
        "colab": {
          "base_uri": "https://localhost:8080/"
        },
        "id": "hH_40XzNh-4S",
        "outputId": "f2d14ca8-b025-4c69-d484-1cc8e074cba6"
      },
      "execution_count": 170,
      "outputs": [
        {
          "output_type": "execute_result",
          "data": {
            "text/plain": [
              "['battery_power',\n",
              " 'dual_sim',\n",
              " 'int_memory',\n",
              " 'm_dep',\n",
              " 'mobile_wt',\n",
              " 'px_height',\n",
              " 'ram',\n",
              " 'sc_h',\n",
              " 'talk_time',\n",
              " 'touch_screen']"
            ]
          },
          "metadata": {},
          "execution_count": 170
        }
      ]
    },
    {
      "cell_type": "code",
      "source": [
        "from sklearn.metrics import classification_report\n",
        "X = mptr[forwards(mptr2,y,0.98)]\n",
        "y = mptr['price_range']\n",
        "trainX, testX, trainy, testy = train_test_split(X, y, test_size=0.2, random_state=3)\n",
        "model = LogisticRegression(solver='liblinear', C=10.0, random_state=0)\n",
        "model.fit(trainX, trainy)\n",
        "print(classification_report(testy, model.predict(testX)))"
      ],
      "metadata": {
        "colab": {
          "base_uri": "https://localhost:8080/"
        },
        "id": "VtnPerem_8ZP",
        "outputId": "df2b2981-1753-43fa-c9bb-65455d0e5dd1"
      },
      "execution_count": 129,
      "outputs": [
        {
          "output_type": "stream",
          "name": "stdout",
          "text": [
            "              precision    recall  f1-score   support\n",
            "\n",
            "           0       0.99      0.98      0.99       199\n",
            "           1       0.99      0.99      0.99       201\n",
            "\n",
            "    accuracy                           0.99       400\n",
            "   macro avg       0.99      0.99      0.99       400\n",
            "weighted avg       0.99      0.99      0.99       400\n",
            "\n"
          ]
        }
      ]
    },
    {
      "cell_type": "code",
      "source": [
        "from sklearn.decomposition import PCA\n",
        "\n",
        "X = mptr.drop(['price_range'],axis=1)\n",
        "y = mptr['price_range']\n",
        "pca = PCA(n_components=5, whiten=True)\n",
        "X_pca = pca.fit_transform(X)\n",
        "trainX, testX, trainy, testy = train_test_split(X_pca, y, test_size=0.2, random_state=3)\n",
        "model = LogisticRegression(solver='liblinear', C=10.0, random_state=0)\n",
        "model.fit(trainX, trainy)\n",
        "print(classification_report(testy, model.predict(testX)))"
      ],
      "metadata": {
        "colab": {
          "base_uri": "https://localhost:8080/"
        },
        "id": "K6Woth4W5oHp",
        "outputId": "ed2e40ef-3e2d-42e9-f0ac-cd66b8d51d05"
      },
      "execution_count": 130,
      "outputs": [
        {
          "output_type": "stream",
          "name": "stdout",
          "text": [
            "              precision    recall  f1-score   support\n",
            "\n",
            "           0       0.99      0.97      0.98       199\n",
            "           1       0.98      0.99      0.98       201\n",
            "\n",
            "    accuracy                           0.98       400\n",
            "   macro avg       0.98      0.98      0.98       400\n",
            "weighted avg       0.98      0.98      0.98       400\n",
            "\n"
          ]
        }
      ]
    },
    {
      "cell_type": "code",
      "source": [
        "from sklearn.metrics import classification_report\n",
        "X = mptr[backwards(mptr2,y,0.01)]\n",
        "y = mptr['price_range']\n",
        "trainX, testX, trainy, testy = train_test_split(X, y, test_size=0.2, random_state=3)\n",
        "model = LogisticRegression(solver='liblinear', C=10.0, random_state=0)\n",
        "model.fit(trainX, trainy)\n",
        "print(classification_report(testy, model.predict(testX)))"
      ],
      "metadata": {
        "colab": {
          "base_uri": "https://localhost:8080/"
        },
        "id": "foNFUxczh1ha",
        "outputId": "2af823c0-cc0e-4b34-8c01-544250cde525"
      },
      "execution_count": 173,
      "outputs": [
        {
          "output_type": "stream",
          "name": "stdout",
          "text": [
            "              precision    recall  f1-score   support\n",
            "\n",
            "           0       0.96      0.96      0.96       199\n",
            "           1       0.97      0.97      0.97       201\n",
            "\n",
            "    accuracy                           0.96       400\n",
            "   macro avg       0.96      0.96      0.96       400\n",
            "weighted avg       0.96      0.96      0.96       400\n",
            "\n"
          ]
        }
      ]
    },
    {
      "cell_type": "code",
      "source": [
        "from sklearn import svm\n",
        "y = mptr['price_range']\n",
        "X = mptr.drop(['price_range'],axis = 1)\n",
        "trainX, testX, trainy, testy = train_test_split(X, y, test_size=0.2, random_state=3)\n",
        "clf = svm.SVC(kernel='rbf')\n",
        "clf.kernel\n",
        "clf.fit(trainX, trainy)\n",
        "clf.score(testX, testy)"
      ],
      "metadata": {
        "colab": {
          "base_uri": "https://localhost:8080/"
        },
        "id": "-sF60v0X7Bsh",
        "outputId": "88f7aaa7-f207-476e-b4e2-aa592a669c21"
      },
      "execution_count": 131,
      "outputs": [
        {
          "output_type": "execute_result",
          "data": {
            "text/plain": [
              "0.9875"
            ]
          },
          "metadata": {},
          "execution_count": 131
        }
      ]
    },
    {
      "cell_type": "code",
      "source": [
        "trainX, testX, trainy, testy = train_test_split(X, y, test_size=0.2, random_state=3)\n",
        "clf = svm.SVC(kernel='sigmoid')\n",
        "clf.fit(trainX, trainy)\n",
        "clf.score(testX, testy)"
      ],
      "metadata": {
        "colab": {
          "base_uri": "https://localhost:8080/"
        },
        "id": "swoX_CXn9L-p",
        "outputId": "bea503c6-57c8-4937-d5e1-6b52e2fbcde6"
      },
      "execution_count": 132,
      "outputs": [
        {
          "output_type": "execute_result",
          "data": {
            "text/plain": [
              "0.4375"
            ]
          },
          "metadata": {},
          "execution_count": 132
        }
      ]
    },
    {
      "cell_type": "code",
      "source": [
        "trainX, testX, trainy, testy = train_test_split(X, y, test_size=0.2, random_state=3)\n",
        "clf = svm.SVC(C=0.1, gamma= 0.1, kernel='sigmoid')\n",
        "clf.fit(trainX, trainy)\n",
        "clf.score(testX, testy)"
      ],
      "metadata": {
        "colab": {
          "base_uri": "https://localhost:8080/"
        },
        "id": "-UhlCGXLHZ6F",
        "outputId": "d3b013fb-ec4b-4595-e705-aacb1ff3aac8"
      },
      "execution_count": 133,
      "outputs": [
        {
          "output_type": "execute_result",
          "data": {
            "text/plain": [
              "0.4975"
            ]
          },
          "metadata": {},
          "execution_count": 133
        }
      ]
    },
    {
      "cell_type": "code",
      "source": [
        "trainX, testX, trainy, testy = train_test_split(X, y, test_size=0.2, random_state=3)\n",
        "clf = svm.SVC(C=100, gamma= 0.001, kernel='rbf')\n",
        "clf.kernel\n",
        "clf.fit(trainX, trainy)\n",
        "clf.score(testX, testy)"
      ],
      "metadata": {
        "colab": {
          "base_uri": "https://localhost:8080/"
        },
        "id": "MFVahQPcH1Hw",
        "outputId": "ebbef8c9-903e-4163-f39a-0cf68c39d4ad"
      },
      "execution_count": 134,
      "outputs": [
        {
          "output_type": "execute_result",
          "data": {
            "text/plain": [
              "0.4975"
            ]
          },
          "metadata": {},
          "execution_count": 134
        }
      ]
    },
    {
      "cell_type": "code",
      "source": [
        "trainX, testX, trainy, testy = train_test_split(X, y, test_size=0.2, random_state=3)\n",
        "clf = svm.SVC(C=0.1, gamma= 10, kernel='poly', degree=2)\n",
        "clf.fit(trainX, trainy)\n",
        "clf.score(testX, testy)"
      ],
      "metadata": {
        "colab": {
          "base_uri": "https://localhost:8080/"
        },
        "id": "OCpWx-UVFon1",
        "outputId": "e3b78387-ee16-464b-e40b-ebee4b3d6b08"
      },
      "execution_count": 135,
      "outputs": [
        {
          "output_type": "execute_result",
          "data": {
            "text/plain": [
              "0.985"
            ]
          },
          "metadata": {},
          "execution_count": 135
        }
      ]
    },
    {
      "cell_type": "code",
      "source": [
        "trainX, testX, trainy, testy = train_test_split(X, y, test_size=0.2, random_state=3)\n",
        "clf = svm.SVC(C=1e-10)\n",
        "clf.fit(trainX, trainy)\n",
        "clf.score(testX, testy)"
      ],
      "metadata": {
        "colab": {
          "base_uri": "https://localhost:8080/"
        },
        "id": "-98cQvVZo48X",
        "outputId": "61566e54-47ea-4afd-d191-e654828bfb0b"
      },
      "execution_count": 136,
      "outputs": [
        {
          "output_type": "execute_result",
          "data": {
            "text/plain": [
              "0.4975"
            ]
          },
          "metadata": {},
          "execution_count": 136
        }
      ]
    },
    {
      "cell_type": "code",
      "source": [
        "trainX, testX, trainy, testy = train_test_split(X, y, test_size=0.2, random_state=3)\n",
        "clf = svm.SVC(C=1000)\n",
        "clf.fit(trainX, trainy)\n",
        "clf.score(testX, testy)"
      ],
      "metadata": {
        "colab": {
          "base_uri": "https://localhost:8080/"
        },
        "id": "-KK51fVCsWRk",
        "outputId": "4eb78306-8483-48a0-eec3-3ed62bf81e35"
      },
      "execution_count": 137,
      "outputs": [
        {
          "output_type": "execute_result",
          "data": {
            "text/plain": [
              "0.9875"
            ]
          },
          "metadata": {},
          "execution_count": 137
        }
      ]
    },
    {
      "cell_type": "code",
      "source": [
        "mptr2 = mptr.copy()\n",
        "mptr2['battery1'] = pd.qcut(mptr['battery_power'], q=4, labels=[1,2,3,4])\n",
        "y = mptr2['price_range']\n",
        "X = mptr2.drop(['price_range','battery_power'],axis = 1)\n",
        "trainX, testX, trainy, testy = train_test_split(X, y, test_size=0.2, random_state=3)\n",
        "clf = svm.SVC(kernel='rbf')\n",
        "clf.fit(trainX, trainy)\n",
        "clf.score(testX, testy)"
      ],
      "metadata": {
        "colab": {
          "base_uri": "https://localhost:8080/"
        },
        "id": "5L-UxJOYJE9f",
        "outputId": "a95bc995-ff5a-48f8-f7e3-e66ab64e28e2"
      },
      "execution_count": 138,
      "outputs": [
        {
          "output_type": "execute_result",
          "data": {
            "text/plain": [
              "0.9375"
            ]
          },
          "metadata": {},
          "execution_count": 138
        }
      ]
    },
    {
      "cell_type": "code",
      "source": [
        "mptr2 = mptr.copy()\n",
        "mptr2['battery2'] = pd.qcut(mptr['battery_power'], q=7, labels=[1,2,3,4,5,6,7])\n",
        "y = mptr2['price_range']\n",
        "X = mptr2.drop(['price_range','battery_power'],axis = 1)\n",
        "trainX, testX, trainy, testy = train_test_split(X, y, test_size=0.2, random_state=3)\n",
        "clf = svm.SVC(kernel='rbf')\n",
        "clf.fit(trainX, trainy)\n",
        "clf.score(testX, testy)"
      ],
      "metadata": {
        "colab": {
          "base_uri": "https://localhost:8080/"
        },
        "id": "eynN2tvHiwW5",
        "outputId": "082489f8-482e-4f07-b7d2-5d976ad3cd33"
      },
      "execution_count": 139,
      "outputs": [
        {
          "output_type": "execute_result",
          "data": {
            "text/plain": [
              "0.9375"
            ]
          },
          "metadata": {},
          "execution_count": 139
        }
      ]
    },
    {
      "cell_type": "code",
      "source": [
        "mptr2 = mptr.copy()\n",
        "mptr2['battery3'] = pd.qcut(mptr['battery_power'], q=3, labels=[1,2,3])\n",
        "y = mptr2['price_range']\n",
        "X = mptr2.drop(['price_range','battery_power'],axis = 1)\n",
        "trainX, testX, trainy, testy = train_test_split(X, y, test_size=0.2, random_state=3)\n",
        "clf = svm.SVC(kernel='rbf')\n",
        "clf.fit(trainX, trainy)\n",
        "clf.score(testX, testy)"
      ],
      "metadata": {
        "colab": {
          "base_uri": "https://localhost:8080/"
        },
        "id": "SEebL2f9i26l",
        "outputId": "c94829e6-787f-49eb-96f0-15d88156defa"
      },
      "execution_count": 140,
      "outputs": [
        {
          "output_type": "execute_result",
          "data": {
            "text/plain": [
              "0.9375"
            ]
          },
          "metadata": {},
          "execution_count": 140
        }
      ]
    },
    {
      "cell_type": "code",
      "source": [
        "mptr.quantile([0.1, 0.3, 0.5, 0.7, 0.9, 1]).battery_power"
      ],
      "metadata": {
        "colab": {
          "base_uri": "https://localhost:8080/"
        },
        "id": "OHQ2sYtGqWhK",
        "outputId": "ac376502-4729-4cec-ecb2-d46f76a89fe1"
      },
      "execution_count": 141,
      "outputs": [
        {
          "output_type": "execute_result",
          "data": {
            "text/plain": [
              "0.1     634.9\n",
              "0.3     920.7\n",
              "0.5    1226.0\n",
              "0.7    1549.0\n",
              "0.9    1851.0\n",
              "1.0    1998.0\n",
              "Name: battery_power, dtype: float64"
            ]
          },
          "metadata": {},
          "execution_count": 141
        }
      ]
    },
    {
      "cell_type": "code",
      "source": [
        "mptr2 = mptr.copy()\n",
        "bins = [0, 635, 920, 1226, 1851, 1998]\n",
        "mptr2['battery'] = pd.cut(mptr['battery_power'], bins=bins, labels=[1,2,3,4,5])\n",
        "y = mptr2['price_range']\n",
        "X = mptr2.drop(['price_range','battery_power'],axis = 1)\n",
        "trainX, testX, trainy, testy = train_test_split(X, y, test_size=0.2, random_state=3)\n",
        "clf = svm.SVC(kernel='rbf')\n",
        "clf.fit(trainX, trainy)\n",
        "clf.score(testX, testy)"
      ],
      "metadata": {
        "colab": {
          "base_uri": "https://localhost:8080/"
        },
        "id": "FKYHihhyp7hB",
        "outputId": "0c697b9d-2d52-4232-9b3d-ca7697c47f6b"
      },
      "execution_count": 142,
      "outputs": [
        {
          "output_type": "execute_result",
          "data": {
            "text/plain": [
              "0.9375"
            ]
          },
          "metadata": {},
          "execution_count": 142
        }
      ]
    },
    {
      "cell_type": "code",
      "source": [
        "mptr2 = mptr.copy()\n",
        "mptr2 = pd.get_dummies(mptr2, prefix=['blue', 'dual_sim','four_g','three_g','touch_screen','wifi'], \n",
        "               columns=['blue', 'dual_sim','four_g','three_g','touch_screen','wifi'])\n",
        "y = mptr2['price_range']\n",
        "X = mptr2.drop(['price_range'],axis = 1)\n",
        "trainX, testX, trainy, testy = train_test_split(X, y, test_size=0.2, random_state=3)\n",
        "clf = svm.SVC()\n",
        "clf.fit(trainX, trainy)\n",
        "clf.score(testX, testy)"
      ],
      "metadata": {
        "colab": {
          "base_uri": "https://localhost:8080/"
        },
        "id": "KyhjjBfvspdZ",
        "outputId": "dd41bbe3-d92e-4cf8-d816-6fb28e1af8d9"
      },
      "execution_count": 143,
      "outputs": [
        {
          "output_type": "execute_result",
          "data": {
            "text/plain": [
              "0.9875"
            ]
          },
          "metadata": {},
          "execution_count": 143
        }
      ]
    },
    {
      "cell_type": "code",
      "source": [
        "mptr2 = mptr.copy()\n",
        "mptr2['surface'] = mptr['px_height']*mptr['px_width']\n",
        "y = mptr2['price_range']\n",
        "X = mptr2.drop(['price_range','px_height','px_width'],axis = 1)\n",
        "trainX, testX, trainy, testy = train_test_split(X, y, test_size=0.2, random_state=3)\n",
        "clf = svm.SVC()\n",
        "clf.fit(trainX, trainy)\n",
        "clf.score(testX, testy)"
      ],
      "metadata": {
        "colab": {
          "base_uri": "https://localhost:8080/"
        },
        "id": "1KlCXWwhStDh",
        "outputId": "5caf341d-349d-4b40-ea3c-c74759a74cb8"
      },
      "execution_count": 144,
      "outputs": [
        {
          "output_type": "execute_result",
          "data": {
            "text/plain": [
              "0.5425"
            ]
          },
          "metadata": {},
          "execution_count": 144
        }
      ]
    },
    {
      "cell_type": "code",
      "source": [
        "X.T"
      ],
      "metadata": {
        "colab": {
          "base_uri": "https://localhost:8080/",
          "height": 738
        },
        "id": "Bq1nzrE5ymFh",
        "outputId": "47a06b2e-2de3-49e7-bb78-30491fb6e2d6"
      },
      "execution_count": 145,
      "outputs": [
        {
          "output_type": "execute_result",
          "data": {
            "text/plain": [
              "                  0          1          2          3          4          5     \\\n",
              "battery_power    842.0     1021.0      563.0      615.0     1821.0     1859.0   \n",
              "blue               0.0        1.0        1.0        1.0        1.0        0.0   \n",
              "clock_speed        2.2        0.5        0.5        2.5        1.2        0.5   \n",
              "dual_sim           0.0        1.0        1.0        0.0        0.0        1.0   \n",
              "fc                 1.0        0.0        2.0        0.0       13.0        3.0   \n",
              "four_g             0.0        1.0        1.0        0.0        1.0        0.0   \n",
              "int_memory         7.0       53.0       41.0       10.0       44.0       22.0   \n",
              "m_dep              0.6        0.7        0.9        0.8        0.6        0.7   \n",
              "mobile_wt        188.0      136.0      145.0      131.0      141.0      164.0   \n",
              "n_cores            2.0        3.0        5.0        6.0        2.0        1.0   \n",
              "pc                 2.0        6.0        6.0        9.0       14.0        7.0   \n",
              "ram             2549.0     2631.0     2603.0     2769.0     1411.0     1067.0   \n",
              "sc_h               9.0       17.0       11.0       16.0        8.0       17.0   \n",
              "sc_w               7.0        3.0        2.0        8.0        2.0        1.0   \n",
              "talk_time         19.0        7.0        9.0       11.0       15.0       10.0   \n",
              "three_g            0.0        1.0        1.0        1.0        1.0        1.0   \n",
              "touch_screen       0.0        1.0        1.0        0.0        1.0        0.0   \n",
              "wifi               1.0        0.0        0.0        0.0        0.0        0.0   \n",
              "surface        15120.0  1799140.0  2167308.0  2171776.0  1464096.0  1660616.0   \n",
              "\n",
              "                   6         7         8          9     ...       1990  \\\n",
              "battery_power    1821.0    1954.0    1445.0      509.0  ...     1617.0   \n",
              "blue                0.0       0.0       1.0        1.0  ...        1.0   \n",
              "clock_speed         1.7       0.5       0.5        0.6  ...        2.4   \n",
              "dual_sim            0.0       1.0       0.0        1.0  ...        0.0   \n",
              "fc                  4.0       0.0       0.0        2.0  ...        8.0   \n",
              "four_g              1.0       0.0       0.0        1.0  ...        1.0   \n",
              "int_memory         10.0      24.0      53.0        9.0  ...       36.0   \n",
              "m_dep               0.8       0.8       0.7        0.1  ...        0.8   \n",
              "mobile_wt         139.0     187.0     174.0       93.0  ...       85.0   \n",
              "n_cores             8.0       4.0       7.0        5.0  ...        1.0   \n",
              "pc                 10.0       0.0      14.0       15.0  ...        9.0   \n",
              "ram              3220.0     700.0    1099.0      513.0  ...      296.0   \n",
              "sc_h               13.0      16.0      17.0       19.0  ...        5.0   \n",
              "sc_w                8.0       3.0       1.0       10.0  ...        3.0   \n",
              "talk_time          18.0       5.0      20.0       12.0  ...        7.0   \n",
              "three_g             1.0       1.0       1.0        1.0  ...        1.0   \n",
              "touch_screen        0.0       1.0       0.0        0.0  ...        0.0   \n",
              "wifi                1.0       1.0       0.0        0.0  ...        0.0   \n",
              "surface        387858.0  588288.0  322696.0  1391688.0  ...  1059518.0   \n",
              "\n",
              "                 1991       1992      1993      1994       1995       1996  \\\n",
              "battery_power  1882.0      674.0    1467.0     858.0      794.0     1965.0   \n",
              "blue              0.0        1.0       1.0       0.0        1.0        1.0   \n",
              "clock_speed       2.0        2.9       0.5       2.2        0.5        2.6   \n",
              "dual_sim          0.0        1.0       0.0       0.0        1.0        1.0   \n",
              "fc               11.0        1.0       0.0       1.0        0.0        0.0   \n",
              "four_g            1.0        0.0       0.0       0.0        1.0        0.0   \n",
              "int_memory       44.0       21.0      18.0      50.0        2.0       39.0   \n",
              "m_dep             0.8        0.2       0.6       0.1        0.8        0.2   \n",
              "mobile_wt       113.0      198.0     122.0      84.0      106.0      187.0   \n",
              "n_cores           8.0        3.0       5.0       1.0        6.0        4.0   \n",
              "pc               19.0        4.0       0.0       2.0       14.0        3.0   \n",
              "ram            3579.0     1180.0    3962.0    3978.0      668.0     2032.0   \n",
              "sc_h             19.0        6.0      15.0      17.0       13.0       11.0   \n",
              "sc_w              8.0        3.0      11.0      16.0        4.0       10.0   \n",
              "talk_time        20.0        4.0       5.0       3.0       19.0       16.0   \n",
              "three_g           1.0        1.0       1.0       1.0        1.0        1.0   \n",
              "touch_screen      1.0        1.0       1.0       1.0        1.0        1.0   \n",
              "wifi              0.0        1.0       1.0       0.0        0.0        1.0   \n",
              "surface        2972.0  1041984.0  975912.0  747648.0  2309580.0  1797975.0   \n",
              "\n",
              "                    1997      1998      1999  \n",
              "battery_power     1911.0    1512.0     510.0  \n",
              "blue                 0.0       0.0       1.0  \n",
              "clock_speed          0.9       0.9       2.0  \n",
              "dual_sim             1.0       0.0       1.0  \n",
              "fc                   1.0       4.0       5.0  \n",
              "four_g               1.0       1.0       1.0  \n",
              "int_memory          36.0      46.0      45.0  \n",
              "m_dep                0.7       0.1       0.9  \n",
              "mobile_wt          108.0     145.0     168.0  \n",
              "n_cores              8.0       5.0       6.0  \n",
              "pc                   3.0       5.0      16.0  \n",
              "ram               3057.0     869.0    3919.0  \n",
              "sc_h                 9.0      18.0      19.0  \n",
              "sc_w                 1.0      10.0       4.0  \n",
              "talk_time            5.0      19.0       2.0  \n",
              "three_g              1.0       1.0       1.0  \n",
              "touch_screen         1.0       1.0       1.0  \n",
              "wifi                 0.0       1.0       1.0  \n",
              "surface        1416576.0  225120.0  364182.0  \n",
              "\n",
              "[19 rows x 2000 columns]"
            ],
            "text/html": [
              "\n",
              "  <div id=\"df-d2ca944a-f0fd-4276-a728-b5244b7c0c90\">\n",
              "    <div class=\"colab-df-container\">\n",
              "      <div>\n",
              "<style scoped>\n",
              "    .dataframe tbody tr th:only-of-type {\n",
              "        vertical-align: middle;\n",
              "    }\n",
              "\n",
              "    .dataframe tbody tr th {\n",
              "        vertical-align: top;\n",
              "    }\n",
              "\n",
              "    .dataframe thead th {\n",
              "        text-align: right;\n",
              "    }\n",
              "</style>\n",
              "<table border=\"1\" class=\"dataframe\">\n",
              "  <thead>\n",
              "    <tr style=\"text-align: right;\">\n",
              "      <th></th>\n",
              "      <th>0</th>\n",
              "      <th>1</th>\n",
              "      <th>2</th>\n",
              "      <th>3</th>\n",
              "      <th>4</th>\n",
              "      <th>5</th>\n",
              "      <th>6</th>\n",
              "      <th>7</th>\n",
              "      <th>8</th>\n",
              "      <th>9</th>\n",
              "      <th>...</th>\n",
              "      <th>1990</th>\n",
              "      <th>1991</th>\n",
              "      <th>1992</th>\n",
              "      <th>1993</th>\n",
              "      <th>1994</th>\n",
              "      <th>1995</th>\n",
              "      <th>1996</th>\n",
              "      <th>1997</th>\n",
              "      <th>1998</th>\n",
              "      <th>1999</th>\n",
              "    </tr>\n",
              "  </thead>\n",
              "  <tbody>\n",
              "    <tr>\n",
              "      <th>battery_power</th>\n",
              "      <td>842.0</td>\n",
              "      <td>1021.0</td>\n",
              "      <td>563.0</td>\n",
              "      <td>615.0</td>\n",
              "      <td>1821.0</td>\n",
              "      <td>1859.0</td>\n",
              "      <td>1821.0</td>\n",
              "      <td>1954.0</td>\n",
              "      <td>1445.0</td>\n",
              "      <td>509.0</td>\n",
              "      <td>...</td>\n",
              "      <td>1617.0</td>\n",
              "      <td>1882.0</td>\n",
              "      <td>674.0</td>\n",
              "      <td>1467.0</td>\n",
              "      <td>858.0</td>\n",
              "      <td>794.0</td>\n",
              "      <td>1965.0</td>\n",
              "      <td>1911.0</td>\n",
              "      <td>1512.0</td>\n",
              "      <td>510.0</td>\n",
              "    </tr>\n",
              "    <tr>\n",
              "      <th>blue</th>\n",
              "      <td>0.0</td>\n",
              "      <td>1.0</td>\n",
              "      <td>1.0</td>\n",
              "      <td>1.0</td>\n",
              "      <td>1.0</td>\n",
              "      <td>0.0</td>\n",
              "      <td>0.0</td>\n",
              "      <td>0.0</td>\n",
              "      <td>1.0</td>\n",
              "      <td>1.0</td>\n",
              "      <td>...</td>\n",
              "      <td>1.0</td>\n",
              "      <td>0.0</td>\n",
              "      <td>1.0</td>\n",
              "      <td>1.0</td>\n",
              "      <td>0.0</td>\n",
              "      <td>1.0</td>\n",
              "      <td>1.0</td>\n",
              "      <td>0.0</td>\n",
              "      <td>0.0</td>\n",
              "      <td>1.0</td>\n",
              "    </tr>\n",
              "    <tr>\n",
              "      <th>clock_speed</th>\n",
              "      <td>2.2</td>\n",
              "      <td>0.5</td>\n",
              "      <td>0.5</td>\n",
              "      <td>2.5</td>\n",
              "      <td>1.2</td>\n",
              "      <td>0.5</td>\n",
              "      <td>1.7</td>\n",
              "      <td>0.5</td>\n",
              "      <td>0.5</td>\n",
              "      <td>0.6</td>\n",
              "      <td>...</td>\n",
              "      <td>2.4</td>\n",
              "      <td>2.0</td>\n",
              "      <td>2.9</td>\n",
              "      <td>0.5</td>\n",
              "      <td>2.2</td>\n",
              "      <td>0.5</td>\n",
              "      <td>2.6</td>\n",
              "      <td>0.9</td>\n",
              "      <td>0.9</td>\n",
              "      <td>2.0</td>\n",
              "    </tr>\n",
              "    <tr>\n",
              "      <th>dual_sim</th>\n",
              "      <td>0.0</td>\n",
              "      <td>1.0</td>\n",
              "      <td>1.0</td>\n",
              "      <td>0.0</td>\n",
              "      <td>0.0</td>\n",
              "      <td>1.0</td>\n",
              "      <td>0.0</td>\n",
              "      <td>1.0</td>\n",
              "      <td>0.0</td>\n",
              "      <td>1.0</td>\n",
              "      <td>...</td>\n",
              "      <td>0.0</td>\n",
              "      <td>0.0</td>\n",
              "      <td>1.0</td>\n",
              "      <td>0.0</td>\n",
              "      <td>0.0</td>\n",
              "      <td>1.0</td>\n",
              "      <td>1.0</td>\n",
              "      <td>1.0</td>\n",
              "      <td>0.0</td>\n",
              "      <td>1.0</td>\n",
              "    </tr>\n",
              "    <tr>\n",
              "      <th>fc</th>\n",
              "      <td>1.0</td>\n",
              "      <td>0.0</td>\n",
              "      <td>2.0</td>\n",
              "      <td>0.0</td>\n",
              "      <td>13.0</td>\n",
              "      <td>3.0</td>\n",
              "      <td>4.0</td>\n",
              "      <td>0.0</td>\n",
              "      <td>0.0</td>\n",
              "      <td>2.0</td>\n",
              "      <td>...</td>\n",
              "      <td>8.0</td>\n",
              "      <td>11.0</td>\n",
              "      <td>1.0</td>\n",
              "      <td>0.0</td>\n",
              "      <td>1.0</td>\n",
              "      <td>0.0</td>\n",
              "      <td>0.0</td>\n",
              "      <td>1.0</td>\n",
              "      <td>4.0</td>\n",
              "      <td>5.0</td>\n",
              "    </tr>\n",
              "    <tr>\n",
              "      <th>four_g</th>\n",
              "      <td>0.0</td>\n",
              "      <td>1.0</td>\n",
              "      <td>1.0</td>\n",
              "      <td>0.0</td>\n",
              "      <td>1.0</td>\n",
              "      <td>0.0</td>\n",
              "      <td>1.0</td>\n",
              "      <td>0.0</td>\n",
              "      <td>0.0</td>\n",
              "      <td>1.0</td>\n",
              "      <td>...</td>\n",
              "      <td>1.0</td>\n",
              "      <td>1.0</td>\n",
              "      <td>0.0</td>\n",
              "      <td>0.0</td>\n",
              "      <td>0.0</td>\n",
              "      <td>1.0</td>\n",
              "      <td>0.0</td>\n",
              "      <td>1.0</td>\n",
              "      <td>1.0</td>\n",
              "      <td>1.0</td>\n",
              "    </tr>\n",
              "    <tr>\n",
              "      <th>int_memory</th>\n",
              "      <td>7.0</td>\n",
              "      <td>53.0</td>\n",
              "      <td>41.0</td>\n",
              "      <td>10.0</td>\n",
              "      <td>44.0</td>\n",
              "      <td>22.0</td>\n",
              "      <td>10.0</td>\n",
              "      <td>24.0</td>\n",
              "      <td>53.0</td>\n",
              "      <td>9.0</td>\n",
              "      <td>...</td>\n",
              "      <td>36.0</td>\n",
              "      <td>44.0</td>\n",
              "      <td>21.0</td>\n",
              "      <td>18.0</td>\n",
              "      <td>50.0</td>\n",
              "      <td>2.0</td>\n",
              "      <td>39.0</td>\n",
              "      <td>36.0</td>\n",
              "      <td>46.0</td>\n",
              "      <td>45.0</td>\n",
              "    </tr>\n",
              "    <tr>\n",
              "      <th>m_dep</th>\n",
              "      <td>0.6</td>\n",
              "      <td>0.7</td>\n",
              "      <td>0.9</td>\n",
              "      <td>0.8</td>\n",
              "      <td>0.6</td>\n",
              "      <td>0.7</td>\n",
              "      <td>0.8</td>\n",
              "      <td>0.8</td>\n",
              "      <td>0.7</td>\n",
              "      <td>0.1</td>\n",
              "      <td>...</td>\n",
              "      <td>0.8</td>\n",
              "      <td>0.8</td>\n",
              "      <td>0.2</td>\n",
              "      <td>0.6</td>\n",
              "      <td>0.1</td>\n",
              "      <td>0.8</td>\n",
              "      <td>0.2</td>\n",
              "      <td>0.7</td>\n",
              "      <td>0.1</td>\n",
              "      <td>0.9</td>\n",
              "    </tr>\n",
              "    <tr>\n",
              "      <th>mobile_wt</th>\n",
              "      <td>188.0</td>\n",
              "      <td>136.0</td>\n",
              "      <td>145.0</td>\n",
              "      <td>131.0</td>\n",
              "      <td>141.0</td>\n",
              "      <td>164.0</td>\n",
              "      <td>139.0</td>\n",
              "      <td>187.0</td>\n",
              "      <td>174.0</td>\n",
              "      <td>93.0</td>\n",
              "      <td>...</td>\n",
              "      <td>85.0</td>\n",
              "      <td>113.0</td>\n",
              "      <td>198.0</td>\n",
              "      <td>122.0</td>\n",
              "      <td>84.0</td>\n",
              "      <td>106.0</td>\n",
              "      <td>187.0</td>\n",
              "      <td>108.0</td>\n",
              "      <td>145.0</td>\n",
              "      <td>168.0</td>\n",
              "    </tr>\n",
              "    <tr>\n",
              "      <th>n_cores</th>\n",
              "      <td>2.0</td>\n",
              "      <td>3.0</td>\n",
              "      <td>5.0</td>\n",
              "      <td>6.0</td>\n",
              "      <td>2.0</td>\n",
              "      <td>1.0</td>\n",
              "      <td>8.0</td>\n",
              "      <td>4.0</td>\n",
              "      <td>7.0</td>\n",
              "      <td>5.0</td>\n",
              "      <td>...</td>\n",
              "      <td>1.0</td>\n",
              "      <td>8.0</td>\n",
              "      <td>3.0</td>\n",
              "      <td>5.0</td>\n",
              "      <td>1.0</td>\n",
              "      <td>6.0</td>\n",
              "      <td>4.0</td>\n",
              "      <td>8.0</td>\n",
              "      <td>5.0</td>\n",
              "      <td>6.0</td>\n",
              "    </tr>\n",
              "    <tr>\n",
              "      <th>pc</th>\n",
              "      <td>2.0</td>\n",
              "      <td>6.0</td>\n",
              "      <td>6.0</td>\n",
              "      <td>9.0</td>\n",
              "      <td>14.0</td>\n",
              "      <td>7.0</td>\n",
              "      <td>10.0</td>\n",
              "      <td>0.0</td>\n",
              "      <td>14.0</td>\n",
              "      <td>15.0</td>\n",
              "      <td>...</td>\n",
              "      <td>9.0</td>\n",
              "      <td>19.0</td>\n",
              "      <td>4.0</td>\n",
              "      <td>0.0</td>\n",
              "      <td>2.0</td>\n",
              "      <td>14.0</td>\n",
              "      <td>3.0</td>\n",
              "      <td>3.0</td>\n",
              "      <td>5.0</td>\n",
              "      <td>16.0</td>\n",
              "    </tr>\n",
              "    <tr>\n",
              "      <th>ram</th>\n",
              "      <td>2549.0</td>\n",
              "      <td>2631.0</td>\n",
              "      <td>2603.0</td>\n",
              "      <td>2769.0</td>\n",
              "      <td>1411.0</td>\n",
              "      <td>1067.0</td>\n",
              "      <td>3220.0</td>\n",
              "      <td>700.0</td>\n",
              "      <td>1099.0</td>\n",
              "      <td>513.0</td>\n",
              "      <td>...</td>\n",
              "      <td>296.0</td>\n",
              "      <td>3579.0</td>\n",
              "      <td>1180.0</td>\n",
              "      <td>3962.0</td>\n",
              "      <td>3978.0</td>\n",
              "      <td>668.0</td>\n",
              "      <td>2032.0</td>\n",
              "      <td>3057.0</td>\n",
              "      <td>869.0</td>\n",
              "      <td>3919.0</td>\n",
              "    </tr>\n",
              "    <tr>\n",
              "      <th>sc_h</th>\n",
              "      <td>9.0</td>\n",
              "      <td>17.0</td>\n",
              "      <td>11.0</td>\n",
              "      <td>16.0</td>\n",
              "      <td>8.0</td>\n",
              "      <td>17.0</td>\n",
              "      <td>13.0</td>\n",
              "      <td>16.0</td>\n",
              "      <td>17.0</td>\n",
              "      <td>19.0</td>\n",
              "      <td>...</td>\n",
              "      <td>5.0</td>\n",
              "      <td>19.0</td>\n",
              "      <td>6.0</td>\n",
              "      <td>15.0</td>\n",
              "      <td>17.0</td>\n",
              "      <td>13.0</td>\n",
              "      <td>11.0</td>\n",
              "      <td>9.0</td>\n",
              "      <td>18.0</td>\n",
              "      <td>19.0</td>\n",
              "    </tr>\n",
              "    <tr>\n",
              "      <th>sc_w</th>\n",
              "      <td>7.0</td>\n",
              "      <td>3.0</td>\n",
              "      <td>2.0</td>\n",
              "      <td>8.0</td>\n",
              "      <td>2.0</td>\n",
              "      <td>1.0</td>\n",
              "      <td>8.0</td>\n",
              "      <td>3.0</td>\n",
              "      <td>1.0</td>\n",
              "      <td>10.0</td>\n",
              "      <td>...</td>\n",
              "      <td>3.0</td>\n",
              "      <td>8.0</td>\n",
              "      <td>3.0</td>\n",
              "      <td>11.0</td>\n",
              "      <td>16.0</td>\n",
              "      <td>4.0</td>\n",
              "      <td>10.0</td>\n",
              "      <td>1.0</td>\n",
              "      <td>10.0</td>\n",
              "      <td>4.0</td>\n",
              "    </tr>\n",
              "    <tr>\n",
              "      <th>talk_time</th>\n",
              "      <td>19.0</td>\n",
              "      <td>7.0</td>\n",
              "      <td>9.0</td>\n",
              "      <td>11.0</td>\n",
              "      <td>15.0</td>\n",
              "      <td>10.0</td>\n",
              "      <td>18.0</td>\n",
              "      <td>5.0</td>\n",
              "      <td>20.0</td>\n",
              "      <td>12.0</td>\n",
              "      <td>...</td>\n",
              "      <td>7.0</td>\n",
              "      <td>20.0</td>\n",
              "      <td>4.0</td>\n",
              "      <td>5.0</td>\n",
              "      <td>3.0</td>\n",
              "      <td>19.0</td>\n",
              "      <td>16.0</td>\n",
              "      <td>5.0</td>\n",
              "      <td>19.0</td>\n",
              "      <td>2.0</td>\n",
              "    </tr>\n",
              "    <tr>\n",
              "      <th>three_g</th>\n",
              "      <td>0.0</td>\n",
              "      <td>1.0</td>\n",
              "      <td>1.0</td>\n",
              "      <td>1.0</td>\n",
              "      <td>1.0</td>\n",
              "      <td>1.0</td>\n",
              "      <td>1.0</td>\n",
              "      <td>1.0</td>\n",
              "      <td>1.0</td>\n",
              "      <td>1.0</td>\n",
              "      <td>...</td>\n",
              "      <td>1.0</td>\n",
              "      <td>1.0</td>\n",
              "      <td>1.0</td>\n",
              "      <td>1.0</td>\n",
              "      <td>1.0</td>\n",
              "      <td>1.0</td>\n",
              "      <td>1.0</td>\n",
              "      <td>1.0</td>\n",
              "      <td>1.0</td>\n",
              "      <td>1.0</td>\n",
              "    </tr>\n",
              "    <tr>\n",
              "      <th>touch_screen</th>\n",
              "      <td>0.0</td>\n",
              "      <td>1.0</td>\n",
              "      <td>1.0</td>\n",
              "      <td>0.0</td>\n",
              "      <td>1.0</td>\n",
              "      <td>0.0</td>\n",
              "      <td>0.0</td>\n",
              "      <td>1.0</td>\n",
              "      <td>0.0</td>\n",
              "      <td>0.0</td>\n",
              "      <td>...</td>\n",
              "      <td>0.0</td>\n",
              "      <td>1.0</td>\n",
              "      <td>1.0</td>\n",
              "      <td>1.0</td>\n",
              "      <td>1.0</td>\n",
              "      <td>1.0</td>\n",
              "      <td>1.0</td>\n",
              "      <td>1.0</td>\n",
              "      <td>1.0</td>\n",
              "      <td>1.0</td>\n",
              "    </tr>\n",
              "    <tr>\n",
              "      <th>wifi</th>\n",
              "      <td>1.0</td>\n",
              "      <td>0.0</td>\n",
              "      <td>0.0</td>\n",
              "      <td>0.0</td>\n",
              "      <td>0.0</td>\n",
              "      <td>0.0</td>\n",
              "      <td>1.0</td>\n",
              "      <td>1.0</td>\n",
              "      <td>0.0</td>\n",
              "      <td>0.0</td>\n",
              "      <td>...</td>\n",
              "      <td>0.0</td>\n",
              "      <td>0.0</td>\n",
              "      <td>1.0</td>\n",
              "      <td>1.0</td>\n",
              "      <td>0.0</td>\n",
              "      <td>0.0</td>\n",
              "      <td>1.0</td>\n",
              "      <td>0.0</td>\n",
              "      <td>1.0</td>\n",
              "      <td>1.0</td>\n",
              "    </tr>\n",
              "    <tr>\n",
              "      <th>surface</th>\n",
              "      <td>15120.0</td>\n",
              "      <td>1799140.0</td>\n",
              "      <td>2167308.0</td>\n",
              "      <td>2171776.0</td>\n",
              "      <td>1464096.0</td>\n",
              "      <td>1660616.0</td>\n",
              "      <td>387858.0</td>\n",
              "      <td>588288.0</td>\n",
              "      <td>322696.0</td>\n",
              "      <td>1391688.0</td>\n",
              "      <td>...</td>\n",
              "      <td>1059518.0</td>\n",
              "      <td>2972.0</td>\n",
              "      <td>1041984.0</td>\n",
              "      <td>975912.0</td>\n",
              "      <td>747648.0</td>\n",
              "      <td>2309580.0</td>\n",
              "      <td>1797975.0</td>\n",
              "      <td>1416576.0</td>\n",
              "      <td>225120.0</td>\n",
              "      <td>364182.0</td>\n",
              "    </tr>\n",
              "  </tbody>\n",
              "</table>\n",
              "<p>19 rows × 2000 columns</p>\n",
              "</div>\n",
              "      <button class=\"colab-df-convert\" onclick=\"convertToInteractive('df-d2ca944a-f0fd-4276-a728-b5244b7c0c90')\"\n",
              "              title=\"Convert this dataframe to an interactive table.\"\n",
              "              style=\"display:none;\">\n",
              "        \n",
              "  <svg xmlns=\"http://www.w3.org/2000/svg\" height=\"24px\"viewBox=\"0 0 24 24\"\n",
              "       width=\"24px\">\n",
              "    <path d=\"M0 0h24v24H0V0z\" fill=\"none\"/>\n",
              "    <path d=\"M18.56 5.44l.94 2.06.94-2.06 2.06-.94-2.06-.94-.94-2.06-.94 2.06-2.06.94zm-11 1L8.5 8.5l.94-2.06 2.06-.94-2.06-.94L8.5 2.5l-.94 2.06-2.06.94zm10 10l.94 2.06.94-2.06 2.06-.94-2.06-.94-.94-2.06-.94 2.06-2.06.94z\"/><path d=\"M17.41 7.96l-1.37-1.37c-.4-.4-.92-.59-1.43-.59-.52 0-1.04.2-1.43.59L10.3 9.45l-7.72 7.72c-.78.78-.78 2.05 0 2.83L4 21.41c.39.39.9.59 1.41.59.51 0 1.02-.2 1.41-.59l7.78-7.78 2.81-2.81c.8-.78.8-2.07 0-2.86zM5.41 20L4 18.59l7.72-7.72 1.47 1.35L5.41 20z\"/>\n",
              "  </svg>\n",
              "      </button>\n",
              "      \n",
              "  <style>\n",
              "    .colab-df-container {\n",
              "      display:flex;\n",
              "      flex-wrap:wrap;\n",
              "      gap: 12px;\n",
              "    }\n",
              "\n",
              "    .colab-df-convert {\n",
              "      background-color: #E8F0FE;\n",
              "      border: none;\n",
              "      border-radius: 50%;\n",
              "      cursor: pointer;\n",
              "      display: none;\n",
              "      fill: #1967D2;\n",
              "      height: 32px;\n",
              "      padding: 0 0 0 0;\n",
              "      width: 32px;\n",
              "    }\n",
              "\n",
              "    .colab-df-convert:hover {\n",
              "      background-color: #E2EBFA;\n",
              "      box-shadow: 0px 1px 2px rgba(60, 64, 67, 0.3), 0px 1px 3px 1px rgba(60, 64, 67, 0.15);\n",
              "      fill: #174EA6;\n",
              "    }\n",
              "\n",
              "    [theme=dark] .colab-df-convert {\n",
              "      background-color: #3B4455;\n",
              "      fill: #D2E3FC;\n",
              "    }\n",
              "\n",
              "    [theme=dark] .colab-df-convert:hover {\n",
              "      background-color: #434B5C;\n",
              "      box-shadow: 0px 1px 3px 1px rgba(0, 0, 0, 0.15);\n",
              "      filter: drop-shadow(0px 1px 2px rgba(0, 0, 0, 0.3));\n",
              "      fill: #FFFFFF;\n",
              "    }\n",
              "  </style>\n",
              "\n",
              "      <script>\n",
              "        const buttonEl =\n",
              "          document.querySelector('#df-d2ca944a-f0fd-4276-a728-b5244b7c0c90 button.colab-df-convert');\n",
              "        buttonEl.style.display =\n",
              "          google.colab.kernel.accessAllowed ? 'block' : 'none';\n",
              "\n",
              "        async function convertToInteractive(key) {\n",
              "          const element = document.querySelector('#df-d2ca944a-f0fd-4276-a728-b5244b7c0c90');\n",
              "          const dataTable =\n",
              "            await google.colab.kernel.invokeFunction('convertToInteractive',\n",
              "                                                     [key], {});\n",
              "          if (!dataTable) return;\n",
              "\n",
              "          const docLinkHtml = 'Like what you see? Visit the ' +\n",
              "            '<a target=\"_blank\" href=https://colab.research.google.com/notebooks/data_table.ipynb>data table notebook</a>'\n",
              "            + ' to learn more about interactive tables.';\n",
              "          element.innerHTML = '';\n",
              "          dataTable['output_type'] = 'display_data';\n",
              "          await google.colab.output.renderOutput(dataTable, element);\n",
              "          const docLink = document.createElement('div');\n",
              "          docLink.innerHTML = docLinkHtml;\n",
              "          element.appendChild(docLink);\n",
              "        }\n",
              "      </script>\n",
              "    </div>\n",
              "  </div>\n",
              "  "
            ]
          },
          "metadata": {},
          "execution_count": 145
        }
      ]
    },
    {
      "cell_type": "code",
      "source": [
        "mptr2 = mptr.copy()\n",
        "mptr2['battery1'] = pd.qcut(mptr['battery_power'], q=4, labels=[1,2,3,4])\n",
        "mptr2['battery2'] = pd.qcut(mptr['battery_power'], q=7, labels=[1,2,3,4,5,6,7])\n",
        "mptr2['battery3'] = pd.qcut(mptr['battery_power'], q=3, labels=[1,2,3])\n",
        "mptr2['battery'] = pd.cut(mptr['battery_power'], bins=bins, labels=[1,2,3,4,5])\n",
        "mptr2['surface'] = mptr['px_height']*mptr['px_width']\n",
        "mptr2 = pd.get_dummies(mptr2, prefix=['blue', 'dual_sim','four_g','three_g','touch_screen','wifi'], \n",
        "               columns=['blue', 'dual_sim','four_g','three_g','touch_screen','wifi'])\n",
        "y = mptr2['price_range']\n",
        "X = mptr2.drop(['price_range','battery_power','px_height','px_width'],axis = 1)\n",
        "trainX, testX, trainy, testy = train_test_split(X, y, test_size=0.2, random_state=3)\n",
        "clf = svm.SVC()\n",
        "clf.fit(trainX, trainy)\n",
        "clf.score(testX, testy)"
      ],
      "metadata": {
        "colab": {
          "base_uri": "https://localhost:8080/"
        },
        "id": "h6Cw-DgvyF1m",
        "outputId": "d33d5058-7f6e-44be-d81d-703681d1f321"
      },
      "execution_count": 146,
      "outputs": [
        {
          "output_type": "execute_result",
          "data": {
            "text/plain": [
              "0.545"
            ]
          },
          "metadata": {},
          "execution_count": 146
        }
      ]
    },
    {
      "cell_type": "code",
      "source": [
        "from sklearn.tree import DecisionTreeClassifier\n",
        "mptr2 = mptr.copy()\n",
        "y = mptr2['price_range']\n",
        "X = mptr2.drop(['price_range'],axis = 1)\n",
        "trainX, testX, trainy, testy = train_test_split(X, y, test_size=0.2, random_state=3)\n",
        "model = DecisionTreeClassifier(random_state=0)\n",
        "clf = model.fit(trainX, trainy)\n",
        "clf.score(testX, testy)"
      ],
      "metadata": {
        "colab": {
          "base_uri": "https://localhost:8080/"
        },
        "id": "gAX_AWfl7EZu",
        "outputId": "cbbb4b70-b089-4cc9-c201-6bd5d9051790"
      },
      "execution_count": 147,
      "outputs": [
        {
          "output_type": "execute_result",
          "data": {
            "text/plain": [
              "0.95"
            ]
          },
          "metadata": {},
          "execution_count": 147
        }
      ]
    },
    {
      "cell_type": "code",
      "source": [
        "mptr2 = mptr.copy()\n",
        "y = mptr2['price_range']\n",
        "X = mptr2.drop(['price_range'],axis = 1)\n",
        "trainX, testX, trainy, testy = train_test_split(X, y, test_size=0.2, random_state=3)\n",
        "model = DecisionTreeClassifier(splitter = 'random', criterion ='gini', max_depth=5,random_state=3)\n",
        "clf = model.fit(trainX, trainy)\n",
        "clf.score(testX, testy)"
      ],
      "metadata": {
        "colab": {
          "base_uri": "https://localhost:8080/"
        },
        "id": "8fqqsrw5-GlA",
        "outputId": "5c616519-eb24-486a-defb-6770c7449183"
      },
      "execution_count": 148,
      "outputs": [
        {
          "output_type": "execute_result",
          "data": {
            "text/plain": [
              "0.9425"
            ]
          },
          "metadata": {},
          "execution_count": 148
        }
      ]
    },
    {
      "cell_type": "code",
      "source": [
        "mptr2 = mptr.copy()\n",
        "y = mptr2['price_range']\n",
        "X = mptr2.drop(['price_range'],axis = 1)\n",
        "trainX, testX, trainy, testy = train_test_split(X, y, test_size=0.2, random_state=3)\n",
        "model = DecisionTreeClassifier(splitter = 'random', criterion ='gini', max_depth=10,random_state=3)\n",
        "clf = model.fit(trainX, trainy)\n",
        "clf.score(testX, testy)"
      ],
      "metadata": {
        "colab": {
          "base_uri": "https://localhost:8080/"
        },
        "id": "kCXCRDrIIWuc",
        "outputId": "9a2d987d-b21c-4fb8-f1fb-81ceb3d6cfa6"
      },
      "execution_count": 149,
      "outputs": [
        {
          "output_type": "execute_result",
          "data": {
            "text/plain": [
              "0.9425"
            ]
          },
          "metadata": {},
          "execution_count": 149
        }
      ]
    },
    {
      "cell_type": "code",
      "source": [
        "mptr2 = mptr.copy()\n",
        "y = mptr2['price_range']\n",
        "X = mptr2.drop(['price_range'],axis = 1)\n",
        "trainX, testX, trainy, testy = train_test_split(X, y, test_size=0.2, random_state=3)\n",
        "model = DecisionTreeClassifier(splitter = 'random', criterion ='gini',min_samples_split=7,random_state=3)\n",
        "clf = model.fit(trainX, trainy)\n",
        "clf.score(testX, testy)"
      ],
      "metadata": {
        "colab": {
          "base_uri": "https://localhost:8080/"
        },
        "id": "5l09rqgBKxS6",
        "outputId": "707499a2-772c-4155-ad42-2818f6bb9cf8"
      },
      "execution_count": 150,
      "outputs": [
        {
          "output_type": "execute_result",
          "data": {
            "text/plain": [
              "0.91"
            ]
          },
          "metadata": {},
          "execution_count": 150
        }
      ]
    },
    {
      "cell_type": "code",
      "source": [
        "mptr2 = mptr.copy()\n",
        "y = mptr2['price_range']\n",
        "X = mptr2.drop(['price_range'],axis = 1)\n",
        "trainX, testX, trainy, testy = train_test_split(X, y, test_size=0.2, random_state=3)\n",
        "model = DecisionTreeClassifier(splitter = 'random', criterion ='gini',min_samples_split=6,random_state=3)\n",
        "clf = model.fit(trainX, trainy)\n",
        "clf.score(testX, testy)"
      ],
      "metadata": {
        "id": "k7QJ2y6eK_7w",
        "outputId": "9befe55c-4550-47d3-85b5-075cae60bfb6",
        "colab": {
          "base_uri": "https://localhost:8080/"
        }
      },
      "execution_count": 151,
      "outputs": [
        {
          "output_type": "execute_result",
          "data": {
            "text/plain": [
              "0.925"
            ]
          },
          "metadata": {},
          "execution_count": 151
        }
      ]
    },
    {
      "cell_type": "code",
      "source": [
        "mptr2 = mptr.copy()\n",
        "y = mptr2['price_range']\n",
        "X = mptr2.drop(['price_range'],axis = 1)\n",
        "trainX, testX, trainy, testy = train_test_split(X, y, test_size=0.2, random_state=3)\n",
        "model = DecisionTreeClassifier(splitter = 'random', criterion ='gini',min_samples_split=4,random_state=3)\n",
        "clf = model.fit(trainX, trainy)\n",
        "clf.score(testX, testy)"
      ],
      "metadata": {
        "colab": {
          "base_uri": "https://localhost:8080/"
        },
        "id": "2DhMKYNaKNp9",
        "outputId": "e093acca-0daa-4b0d-e77c-85dd7f22f976"
      },
      "execution_count": 152,
      "outputs": [
        {
          "output_type": "execute_result",
          "data": {
            "text/plain": [
              "0.9175"
            ]
          },
          "metadata": {},
          "execution_count": 152
        }
      ]
    },
    {
      "cell_type": "code",
      "source": [
        "mptr2 = mptr.copy()\n",
        "y = mptr2['price_range']\n",
        "X = mptr2.drop(['price_range'],axis = 1)\n",
        "trainX, testX, trainy, testy = train_test_split(X, y, test_size=0.2, random_state=3)\n",
        "model = DecisionTreeClassifier(splitter = 'random', criterion ='gini',min_samples_split=2,random_state=3)\n",
        "clf = model.fit(trainX, trainy)\n",
        "clf.score(testX, testy)"
      ],
      "metadata": {
        "colab": {
          "base_uri": "https://localhost:8080/"
        },
        "id": "DTK__KdhKhQa",
        "outputId": "4081f431-573a-445b-b103-7a37962452e8"
      },
      "execution_count": 153,
      "outputs": [
        {
          "output_type": "execute_result",
          "data": {
            "text/plain": [
              "0.935"
            ]
          },
          "metadata": {},
          "execution_count": 153
        }
      ]
    }
  ],
  "metadata": {
    "colab": {
      "name": "mobile-prices.ipynb",
      "provenance": [],
      "collapsed_sections": []
    },
    "kernelspec": {
      "display_name": "Python 3",
      "name": "python3"
    },
    "language_info": {
      "name": "python"
    }
  },
  "nbformat": 4,
  "nbformat_minor": 0
}