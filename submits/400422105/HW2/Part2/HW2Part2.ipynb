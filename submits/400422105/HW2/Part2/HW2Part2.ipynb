{
  "nbformat": 4,
  "nbformat_minor": 0,
  "metadata": {
    "colab": {
      "name": "HW2Part2.ipynb",
      "provenance": [],
      "collapsed_sections": []
    },
    "kernelspec": {
      "name": "python3",
      "display_name": "Python 3"
    },
    "language_info": {
      "name": "python"
    }
  },
  "cells": [
    {
      "cell_type": "markdown",
      "source": [
        "#Pouya Shaeri\n",
        "#400422105\n",
        "This is **part 2** of the Data Mining Project"
      ],
      "metadata": {
        "id": "jzQpecnisi56"
      }
    },
    {
      "cell_type": "markdown",
      "source": [
        "# **TASK 0** : Reading Data and Preprocess"
      ],
      "metadata": {
        "id": "OuV7akIWoZh_"
      }
    },
    {
      "cell_type": "code",
      "execution_count": 1,
      "metadata": {
        "id": "eULwK_nQsKSo"
      },
      "outputs": [],
      "source": [
        "import pandas as pd\n",
        "import numpy as np"
      ]
    },
    {
      "cell_type": "code",
      "source": [
        "from google.colab import drive\n",
        "drive.mount(\"/content/gdrive\")"
      ],
      "metadata": {
        "colab": {
          "base_uri": "https://localhost:8080/"
        },
        "id": "ZCNwJHdzs0x2",
        "outputId": "5d7a8ef5-4b3a-4965-8953-8fb268b7246b"
      },
      "execution_count": 2,
      "outputs": [
        {
          "output_type": "stream",
          "name": "stdout",
          "text": [
            "Mounted at /content/gdrive\n"
          ]
        }
      ]
    },
    {
      "cell_type": "code",
      "source": [
        "df_original = pd.read_csv('/content/gdrive/MyDrive/Colab Notebooks/Data Mining/Project2/Part2/Dataset/heart.csv')\n",
        "df = df_original.copy()\n",
        "df"
      ],
      "metadata": {
        "colab": {
          "base_uri": "https://localhost:8080/",
          "height": 424
        },
        "id": "9fH3qaeltESf",
        "outputId": "9a838868-1447-4a43-c8a1-07e6e45aad58"
      },
      "execution_count": 3,
      "outputs": [
        {
          "output_type": "execute_result",
          "data": {
            "text/plain": [
              "     age  sex  cp  trestbps  chol  fbs  restecg  thalach  exang  oldpeak  \\\n",
              "0     63    1   3       145   233    1        0      150      0      2.3   \n",
              "1     37    1   2       130   250    0        1      187      0      3.5   \n",
              "2     41    0   1       130   204    0        0      172      0      1.4   \n",
              "3     56    1   1       120   236    0        1      178      0      0.8   \n",
              "4     57    0   0       120   354    0        1      163      1      0.6   \n",
              "..   ...  ...  ..       ...   ...  ...      ...      ...    ...      ...   \n",
              "298   57    0   0       140   241    0        1      123      1      0.2   \n",
              "299   45    1   3       110   264    0        1      132      0      1.2   \n",
              "300   68    1   0       144   193    1        1      141      0      3.4   \n",
              "301   57    1   0       130   131    0        1      115      1      1.2   \n",
              "302   57    0   1       130   236    0        0      174      0      0.0   \n",
              "\n",
              "     slope  ca  thal  target  \n",
              "0        0   0     1       1  \n",
              "1        0   0     2       1  \n",
              "2        2   0     2       1  \n",
              "3        2   0     2       1  \n",
              "4        2   0     2       1  \n",
              "..     ...  ..   ...     ...  \n",
              "298      1   0     3       0  \n",
              "299      1   0     3       0  \n",
              "300      1   2     3       0  \n",
              "301      1   1     3       0  \n",
              "302      1   1     2       0  \n",
              "\n",
              "[303 rows x 14 columns]"
            ],
            "text/html": [
              "\n",
              "  <div id=\"df-7529d473-c721-4dc2-bb43-0060acb5544d\">\n",
              "    <div class=\"colab-df-container\">\n",
              "      <div>\n",
              "<style scoped>\n",
              "    .dataframe tbody tr th:only-of-type {\n",
              "        vertical-align: middle;\n",
              "    }\n",
              "\n",
              "    .dataframe tbody tr th {\n",
              "        vertical-align: top;\n",
              "    }\n",
              "\n",
              "    .dataframe thead th {\n",
              "        text-align: right;\n",
              "    }\n",
              "</style>\n",
              "<table border=\"1\" class=\"dataframe\">\n",
              "  <thead>\n",
              "    <tr style=\"text-align: right;\">\n",
              "      <th></th>\n",
              "      <th>age</th>\n",
              "      <th>sex</th>\n",
              "      <th>cp</th>\n",
              "      <th>trestbps</th>\n",
              "      <th>chol</th>\n",
              "      <th>fbs</th>\n",
              "      <th>restecg</th>\n",
              "      <th>thalach</th>\n",
              "      <th>exang</th>\n",
              "      <th>oldpeak</th>\n",
              "      <th>slope</th>\n",
              "      <th>ca</th>\n",
              "      <th>thal</th>\n",
              "      <th>target</th>\n",
              "    </tr>\n",
              "  </thead>\n",
              "  <tbody>\n",
              "    <tr>\n",
              "      <th>0</th>\n",
              "      <td>63</td>\n",
              "      <td>1</td>\n",
              "      <td>3</td>\n",
              "      <td>145</td>\n",
              "      <td>233</td>\n",
              "      <td>1</td>\n",
              "      <td>0</td>\n",
              "      <td>150</td>\n",
              "      <td>0</td>\n",
              "      <td>2.3</td>\n",
              "      <td>0</td>\n",
              "      <td>0</td>\n",
              "      <td>1</td>\n",
              "      <td>1</td>\n",
              "    </tr>\n",
              "    <tr>\n",
              "      <th>1</th>\n",
              "      <td>37</td>\n",
              "      <td>1</td>\n",
              "      <td>2</td>\n",
              "      <td>130</td>\n",
              "      <td>250</td>\n",
              "      <td>0</td>\n",
              "      <td>1</td>\n",
              "      <td>187</td>\n",
              "      <td>0</td>\n",
              "      <td>3.5</td>\n",
              "      <td>0</td>\n",
              "      <td>0</td>\n",
              "      <td>2</td>\n",
              "      <td>1</td>\n",
              "    </tr>\n",
              "    <tr>\n",
              "      <th>2</th>\n",
              "      <td>41</td>\n",
              "      <td>0</td>\n",
              "      <td>1</td>\n",
              "      <td>130</td>\n",
              "      <td>204</td>\n",
              "      <td>0</td>\n",
              "      <td>0</td>\n",
              "      <td>172</td>\n",
              "      <td>0</td>\n",
              "      <td>1.4</td>\n",
              "      <td>2</td>\n",
              "      <td>0</td>\n",
              "      <td>2</td>\n",
              "      <td>1</td>\n",
              "    </tr>\n",
              "    <tr>\n",
              "      <th>3</th>\n",
              "      <td>56</td>\n",
              "      <td>1</td>\n",
              "      <td>1</td>\n",
              "      <td>120</td>\n",
              "      <td>236</td>\n",
              "      <td>0</td>\n",
              "      <td>1</td>\n",
              "      <td>178</td>\n",
              "      <td>0</td>\n",
              "      <td>0.8</td>\n",
              "      <td>2</td>\n",
              "      <td>0</td>\n",
              "      <td>2</td>\n",
              "      <td>1</td>\n",
              "    </tr>\n",
              "    <tr>\n",
              "      <th>4</th>\n",
              "      <td>57</td>\n",
              "      <td>0</td>\n",
              "      <td>0</td>\n",
              "      <td>120</td>\n",
              "      <td>354</td>\n",
              "      <td>0</td>\n",
              "      <td>1</td>\n",
              "      <td>163</td>\n",
              "      <td>1</td>\n",
              "      <td>0.6</td>\n",
              "      <td>2</td>\n",
              "      <td>0</td>\n",
              "      <td>2</td>\n",
              "      <td>1</td>\n",
              "    </tr>\n",
              "    <tr>\n",
              "      <th>...</th>\n",
              "      <td>...</td>\n",
              "      <td>...</td>\n",
              "      <td>...</td>\n",
              "      <td>...</td>\n",
              "      <td>...</td>\n",
              "      <td>...</td>\n",
              "      <td>...</td>\n",
              "      <td>...</td>\n",
              "      <td>...</td>\n",
              "      <td>...</td>\n",
              "      <td>...</td>\n",
              "      <td>...</td>\n",
              "      <td>...</td>\n",
              "      <td>...</td>\n",
              "    </tr>\n",
              "    <tr>\n",
              "      <th>298</th>\n",
              "      <td>57</td>\n",
              "      <td>0</td>\n",
              "      <td>0</td>\n",
              "      <td>140</td>\n",
              "      <td>241</td>\n",
              "      <td>0</td>\n",
              "      <td>1</td>\n",
              "      <td>123</td>\n",
              "      <td>1</td>\n",
              "      <td>0.2</td>\n",
              "      <td>1</td>\n",
              "      <td>0</td>\n",
              "      <td>3</td>\n",
              "      <td>0</td>\n",
              "    </tr>\n",
              "    <tr>\n",
              "      <th>299</th>\n",
              "      <td>45</td>\n",
              "      <td>1</td>\n",
              "      <td>3</td>\n",
              "      <td>110</td>\n",
              "      <td>264</td>\n",
              "      <td>0</td>\n",
              "      <td>1</td>\n",
              "      <td>132</td>\n",
              "      <td>0</td>\n",
              "      <td>1.2</td>\n",
              "      <td>1</td>\n",
              "      <td>0</td>\n",
              "      <td>3</td>\n",
              "      <td>0</td>\n",
              "    </tr>\n",
              "    <tr>\n",
              "      <th>300</th>\n",
              "      <td>68</td>\n",
              "      <td>1</td>\n",
              "      <td>0</td>\n",
              "      <td>144</td>\n",
              "      <td>193</td>\n",
              "      <td>1</td>\n",
              "      <td>1</td>\n",
              "      <td>141</td>\n",
              "      <td>0</td>\n",
              "      <td>3.4</td>\n",
              "      <td>1</td>\n",
              "      <td>2</td>\n",
              "      <td>3</td>\n",
              "      <td>0</td>\n",
              "    </tr>\n",
              "    <tr>\n",
              "      <th>301</th>\n",
              "      <td>57</td>\n",
              "      <td>1</td>\n",
              "      <td>0</td>\n",
              "      <td>130</td>\n",
              "      <td>131</td>\n",
              "      <td>0</td>\n",
              "      <td>1</td>\n",
              "      <td>115</td>\n",
              "      <td>1</td>\n",
              "      <td>1.2</td>\n",
              "      <td>1</td>\n",
              "      <td>1</td>\n",
              "      <td>3</td>\n",
              "      <td>0</td>\n",
              "    </tr>\n",
              "    <tr>\n",
              "      <th>302</th>\n",
              "      <td>57</td>\n",
              "      <td>0</td>\n",
              "      <td>1</td>\n",
              "      <td>130</td>\n",
              "      <td>236</td>\n",
              "      <td>0</td>\n",
              "      <td>0</td>\n",
              "      <td>174</td>\n",
              "      <td>0</td>\n",
              "      <td>0.0</td>\n",
              "      <td>1</td>\n",
              "      <td>1</td>\n",
              "      <td>2</td>\n",
              "      <td>0</td>\n",
              "    </tr>\n",
              "  </tbody>\n",
              "</table>\n",
              "<p>303 rows × 14 columns</p>\n",
              "</div>\n",
              "      <button class=\"colab-df-convert\" onclick=\"convertToInteractive('df-7529d473-c721-4dc2-bb43-0060acb5544d')\"\n",
              "              title=\"Convert this dataframe to an interactive table.\"\n",
              "              style=\"display:none;\">\n",
              "        \n",
              "  <svg xmlns=\"http://www.w3.org/2000/svg\" height=\"24px\"viewBox=\"0 0 24 24\"\n",
              "       width=\"24px\">\n",
              "    <path d=\"M0 0h24v24H0V0z\" fill=\"none\"/>\n",
              "    <path d=\"M18.56 5.44l.94 2.06.94-2.06 2.06-.94-2.06-.94-.94-2.06-.94 2.06-2.06.94zm-11 1L8.5 8.5l.94-2.06 2.06-.94-2.06-.94L8.5 2.5l-.94 2.06-2.06.94zm10 10l.94 2.06.94-2.06 2.06-.94-2.06-.94-.94-2.06-.94 2.06-2.06.94z\"/><path d=\"M17.41 7.96l-1.37-1.37c-.4-.4-.92-.59-1.43-.59-.52 0-1.04.2-1.43.59L10.3 9.45l-7.72 7.72c-.78.78-.78 2.05 0 2.83L4 21.41c.39.39.9.59 1.41.59.51 0 1.02-.2 1.41-.59l7.78-7.78 2.81-2.81c.8-.78.8-2.07 0-2.86zM5.41 20L4 18.59l7.72-7.72 1.47 1.35L5.41 20z\"/>\n",
              "  </svg>\n",
              "      </button>\n",
              "      \n",
              "  <style>\n",
              "    .colab-df-container {\n",
              "      display:flex;\n",
              "      flex-wrap:wrap;\n",
              "      gap: 12px;\n",
              "    }\n",
              "\n",
              "    .colab-df-convert {\n",
              "      background-color: #E8F0FE;\n",
              "      border: none;\n",
              "      border-radius: 50%;\n",
              "      cursor: pointer;\n",
              "      display: none;\n",
              "      fill: #1967D2;\n",
              "      height: 32px;\n",
              "      padding: 0 0 0 0;\n",
              "      width: 32px;\n",
              "    }\n",
              "\n",
              "    .colab-df-convert:hover {\n",
              "      background-color: #E2EBFA;\n",
              "      box-shadow: 0px 1px 2px rgba(60, 64, 67, 0.3), 0px 1px 3px 1px rgba(60, 64, 67, 0.15);\n",
              "      fill: #174EA6;\n",
              "    }\n",
              "\n",
              "    [theme=dark] .colab-df-convert {\n",
              "      background-color: #3B4455;\n",
              "      fill: #D2E3FC;\n",
              "    }\n",
              "\n",
              "    [theme=dark] .colab-df-convert:hover {\n",
              "      background-color: #434B5C;\n",
              "      box-shadow: 0px 1px 3px 1px rgba(0, 0, 0, 0.15);\n",
              "      filter: drop-shadow(0px 1px 2px rgba(0, 0, 0, 0.3));\n",
              "      fill: #FFFFFF;\n",
              "    }\n",
              "  </style>\n",
              "\n",
              "      <script>\n",
              "        const buttonEl =\n",
              "          document.querySelector('#df-7529d473-c721-4dc2-bb43-0060acb5544d button.colab-df-convert');\n",
              "        buttonEl.style.display =\n",
              "          google.colab.kernel.accessAllowed ? 'block' : 'none';\n",
              "\n",
              "        async function convertToInteractive(key) {\n",
              "          const element = document.querySelector('#df-7529d473-c721-4dc2-bb43-0060acb5544d');\n",
              "          const dataTable =\n",
              "            await google.colab.kernel.invokeFunction('convertToInteractive',\n",
              "                                                     [key], {});\n",
              "          if (!dataTable) return;\n",
              "\n",
              "          const docLinkHtml = 'Like what you see? Visit the ' +\n",
              "            '<a target=\"_blank\" href=https://colab.research.google.com/notebooks/data_table.ipynb>data table notebook</a>'\n",
              "            + ' to learn more about interactive tables.';\n",
              "          element.innerHTML = '';\n",
              "          dataTable['output_type'] = 'display_data';\n",
              "          await google.colab.output.renderOutput(dataTable, element);\n",
              "          const docLink = document.createElement('div');\n",
              "          docLink.innerHTML = docLinkHtml;\n",
              "          element.appendChild(docLink);\n",
              "        }\n",
              "      </script>\n",
              "    </div>\n",
              "  </div>\n",
              "  "
            ]
          },
          "metadata": {},
          "execution_count": 3
        }
      ]
    },
    {
      "cell_type": "code",
      "source": [
        "df.isna().sum()"
      ],
      "metadata": {
        "colab": {
          "base_uri": "https://localhost:8080/"
        },
        "id": "LflNmSlmtNOj",
        "outputId": "42e383a8-6ef3-4386-ff67-459b67f87a64"
      },
      "execution_count": 4,
      "outputs": [
        {
          "output_type": "execute_result",
          "data": {
            "text/plain": [
              "age         0\n",
              "sex         0\n",
              "cp          0\n",
              "trestbps    0\n",
              "chol        0\n",
              "fbs         0\n",
              "restecg     0\n",
              "thalach     0\n",
              "exang       0\n",
              "oldpeak     0\n",
              "slope       0\n",
              "ca          0\n",
              "thal        0\n",
              "target      0\n",
              "dtype: int64"
            ]
          },
          "metadata": {},
          "execution_count": 4
        }
      ]
    },
    {
      "cell_type": "markdown",
      "source": [
        "**Removing Outlier Records by Z-Score**"
      ],
      "metadata": {
        "id": "BoOLK3qO8Psr"
      }
    },
    {
      "cell_type": "code",
      "source": [
        "# Remove outlier instances (considering the Numerical features)\n",
        "# An instance is outlier if it's value is 3*std higher than mean (z-score = 3)\n",
        "for col in df.columns:\n",
        "  if df[col].dtype == 'int64' or df[col].dtype == 'float64':\n",
        "    print('before', col, len(df), df[col].mean(), df[col].std())\n",
        "    upper_range = df[col].mean() + 3 * df[col].std()\n",
        "    lower_range = df[col].mean() - 3 * df[col].std()\n",
        "\n",
        "    df = df[(df[col]>= lower_range) & (df[col]<= upper_range)]\n",
        "\n",
        "    print('after', col, len(df), df[col].mean(), df[col].std())\n"
      ],
      "metadata": {
        "colab": {
          "base_uri": "https://localhost:8080/"
        },
        "id": "6h1BoC79tVEs",
        "outputId": "bbdc2328-7c54-49e9-dc8a-747621c1c012"
      },
      "execution_count": 5,
      "outputs": [
        {
          "output_type": "stream",
          "name": "stdout",
          "text": [
            "before age 303 54.366336633663366 9.082100989837858\n",
            "after age 303 54.366336633663366 9.082100989837858\n",
            "before sex 303 0.6831683168316832 0.4660108233396251\n",
            "after sex 303 0.6831683168316832 0.4660108233396251\n",
            "before cp 303 0.966996699669967 1.0320524894832992\n",
            "after cp 303 0.966996699669967 1.0320524894832992\n",
            "before trestbps 303 131.62376237623764 17.53814281351709\n",
            "after trestbps 301 131.19601328903656 16.784460592657993\n",
            "before chol 301 246.0033222591362 51.90340376371416\n",
            "after chol 297 243.26599326599327 45.881530263983336\n",
            "before fbs 297 0.1447811447811448 0.352473934125454\n",
            "after fbs 297 0.1447811447811448 0.352473934125454\n",
            "before restecg 297 0.5387205387205387 0.52570645456117\n",
            "after restecg 297 0.5387205387205387 0.52570645456117\n",
            "before thalach 297 149.4747474747475 22.951186494535786\n",
            "after thalach 296 149.73986486486487 22.52990250978288\n",
            "before exang 296 0.3277027027027027 0.47017067884642416\n",
            "after exang 296 0.3277027027027027 0.47017067884642416\n",
            "before oldpeak 296 1.0192567567567568 1.1457811139005305\n",
            "after oldpeak 294 0.9860544217687072 1.0758484597242133\n",
            "before slope 294 1.4149659863945578 0.6053632583887506\n",
            "after slope 294 1.4149659863945578 0.6053632583887506\n",
            "before ca 294 0.7108843537414966 1.0125916636854568\n",
            "after ca 289 0.6539792387543253 0.9230796956750132\n",
            "before thal 289 2.2975778546712804 0.6135289104454055\n",
            "after thal 287 2.313588850174216 0.5847030310854915\n",
            "before target 287 0.5505226480836237 0.49830980619170034\n",
            "after target 287 0.5505226480836237 0.49830980619170034\n"
          ]
        }
      ]
    },
    {
      "cell_type": "markdown",
      "source": [
        "# **TASK 2 & 3**"
      ],
      "metadata": {
        "id": "mBqrN0bL9BuR"
      }
    },
    {
      "cell_type": "code",
      "source": [
        "import math\n",
        "\n",
        "ATTR_NAMES = [\"thalach\", \"trestbps\", \"chol\"]\n",
        "FIELD_NAMES = [\"Num\"] + ATTR_NAMES + [\"target\"]\n",
        "\n",
        "class GNB_classifier(object):\n",
        "\n",
        "    def __init__(self, training_set, test_set):\n",
        "        self.__training_set = training_set\n",
        "        self.__test_set = test_set\n",
        "        self.__n = len(self.__training_set)\n",
        "        self.__prior()\n",
        "        self.__calculate_mean_variance()\n",
        "\n",
        "    def __prior(self):\n",
        "        counts = self.__training_set[\"target\"].value_counts().to_dict()\n",
        "        self.__priors = {(k, v / self.__n) for k, v in counts.items()}\n",
        "\n",
        "    def __calculate_mean_variance(self):\n",
        "        self.__mean_variance = {}\n",
        "        for c in self.__training_set[\"target\"].unique():\n",
        "            filtered_set = self.__training_set[\n",
        "                (self.__training_set['target'] == c)]\n",
        "            m_v = {}\n",
        "            for attr_name in ATTR_NAMES:\n",
        "                m_v[attr_name] = []\n",
        "                m_v[attr_name].append(filtered_set[attr_name].mean())\n",
        "                m_v[attr_name].append(\n",
        "                    math.pow(filtered_set[attr_name].std(), 2))\n",
        "            self.__mean_variance[c] = m_v\n",
        "\n",
        "    @staticmethod\n",
        "    def __calculate_probability(x, mean, variance):\n",
        "        exponent = math.exp(-(math.pow(x - mean, 2) / (2 * variance)))\n",
        "        return (1 / (math.sqrt(2 * math.pi * variance))) * exponent\n",
        "\n",
        "    def predict(self):\n",
        "        predictions = {}\n",
        "        for _, row in self.__test_set.iterrows():\n",
        "            results = {}\n",
        "            for k, v in self.__priors:\n",
        "                p = 0\n",
        "                for attr_name in ATTR_NAMES:\n",
        "                    prob = self.__calculate_probability(row[attr_name], self.__mean_variance[\n",
        "                        k][attr_name][0], self.__mean_variance[k][attr_name][1])\n",
        "                    if prob > 0:\n",
        "                        p += math.log(prob)\n",
        "                results[k] = math.log(v) + p\n",
        "            predictions[int(row._name)] = max([key for key in results.keys() if results[\n",
        "                key] == results[max(results, key=results.get)]])\n",
        "        return predictions\n",
        "\n",
        "    def print_info(self):\n",
        "        print(\"Priors for each class: \", self.__priors)\n",
        "        print(\"Means and variance for each class: \", self.__mean_variance)\n",
        "\n",
        "        \n",
        "def calculate_accuracy(test_set, predictions):\n",
        "    correct = 0\n",
        "    for _, t in test_set.iterrows():\n",
        "        if t[\"target\"] == predictions[t._name]:\n",
        "            correct += 1\n",
        "    return (correct / len(test_set)) * 100.0"
      ],
      "metadata": {
        "id": "s3DIy4658YLp"
      },
      "execution_count": 6,
      "outputs": []
    },
    {
      "cell_type": "code",
      "source": [
        "from sklearn.model_selection import train_test_split\n",
        "\n",
        "y = df.target.values\n",
        "x_train, x_test, y_train, y_test = train_test_split(df,y,test_size = 0.2,random_state=42)"
      ],
      "metadata": {
        "id": "AUbNHJMQM6jY"
      },
      "execution_count": 7,
      "outputs": []
    },
    {
      "cell_type": "code",
      "source": [
        "classifier = GNB_classifier(x_train, x_test)\n",
        "classifier.print_info()"
      ],
      "metadata": {
        "colab": {
          "base_uri": "https://localhost:8080/"
        },
        "id": "_MhDVURfMwXp",
        "outputId": "417b53c0-d97c-4da2-9fe8-82b03c2a47f8"
      },
      "execution_count": 8,
      "outputs": [
        {
          "output_type": "stream",
          "name": "stdout",
          "text": [
            "Priors for each class:  {(1, 0.537117903930131), (0, 0.462882096069869)}\n",
            "Means and variance for each class:  {1: {'thalach': [158.609756097561, 386.3054778088765], 'trestbps': [129.08130081300814, 251.48513927762207], 'chol': [244.7560975609756, 2221.317073170731]}, 0: {'thalach': [139.78301886792454, 479.3715184186884], 'trestbps': [134.06603773584905, 324.5384546271338], 'chol': [247.10377358490567, 2161.6557951482478]}}\n"
          ]
        }
      ]
    },
    {
      "cell_type": "code",
      "source": [
        "predictions = classifier.predict()\n",
        "print(\"Predictions in the form (number, predicted class): \", predictions)"
      ],
      "metadata": {
        "colab": {
          "base_uri": "https://localhost:8080/"
        },
        "id": "e_LMI_JeNN0P",
        "outputId": "24df3319-4393-423b-a8ce-505af8576488"
      },
      "execution_count": 9,
      "outputs": [
        {
          "output_type": "stream",
          "name": "stdout",
          "text": [
            "Predictions in the form (number, predicted class):  {9: 1, 269: 0, 148: 1, 224: 0, 241: 0, 205: 1, 101: 0, 75: 1, 113: 1, 34: 0, 143: 1, 216: 0, 147: 1, 282: 0, 5: 1, 234: 0, 249: 1, 268: 0, 46: 1, 285: 0, 250: 0, 58: 1, 159: 1, 160: 1, 117: 1, 112: 0, 156: 1, 150: 0, 115: 1, 43: 1, 116: 1, 151: 0, 180: 0, 222: 1, 47: 1, 84: 0, 65: 1, 122: 1, 77: 1, 172: 1, 152: 0, 31: 1, 22: 1, 24: 1, 191: 0, 267: 0, 87: 1, 183: 1, 284: 0, 97: 1, 214: 1, 179: 0, 185: 1, 171: 1, 6: 1, 79: 1, 201: 1, 62: 1}\n"
          ]
        }
      ]
    },
    {
      "cell_type": "code",
      "source": [
        "accuracy = calculate_accuracy(x_test, predictions)\n",
        "print(\"Accuracy : \", accuracy)"
      ],
      "metadata": {
        "colab": {
          "base_uri": "https://localhost:8080/"
        },
        "id": "sgVtWMzPNQRf",
        "outputId": "f4986e20-bfc1-4ade-b193-58c6d89cb268"
      },
      "execution_count": 10,
      "outputs": [
        {
          "output_type": "stream",
          "name": "stdout",
          "text": [
            "Accuracy :  72.41379310344827\n"
          ]
        }
      ]
    },
    {
      "cell_type": "code",
      "source": [
        "from sklearn.metrics import precision_score, recall_score, f1_score\n",
        "\n",
        "y_pred = [ value for key,value in predictions.items()]\n",
        "\n",
        "print(\"Precision:\")\n",
        "my_p_score = precision_score(y_test, y_pred)  \n",
        "my_p_score * 100"
      ],
      "metadata": {
        "colab": {
          "base_uri": "https://localhost:8080/"
        },
        "id": "XaxImuOCNcIX",
        "outputId": "4e604f52-f402-45b2-ab7b-ace34407c4c6"
      },
      "execution_count": 11,
      "outputs": [
        {
          "output_type": "stream",
          "name": "stdout",
          "text": [
            "Precision:\n"
          ]
        },
        {
          "output_type": "execute_result",
          "data": {
            "text/plain": [
              "75.67567567567568"
            ]
          },
          "metadata": {},
          "execution_count": 11
        }
      ]
    },
    {
      "cell_type": "code",
      "source": [
        "print(\"Recall:\")\n",
        "my_recall_score = recall_score(y_test, y_pred)\n",
        "my_recall_score * 100"
      ],
      "metadata": {
        "colab": {
          "base_uri": "https://localhost:8080/"
        },
        "id": "bVf_UDTtNfu_",
        "outputId": "296a2394-63fe-4244-a801-0c40da47220c"
      },
      "execution_count": 12,
      "outputs": [
        {
          "output_type": "stream",
          "name": "stdout",
          "text": [
            "Recall:\n"
          ]
        },
        {
          "output_type": "execute_result",
          "data": {
            "text/plain": [
              "80.0"
            ]
          },
          "metadata": {},
          "execution_count": 12
        }
      ]
    },
    {
      "cell_type": "code",
      "source": [
        "print(\"F1 Score:\")\n",
        "my_f1_score = f1_score(y_test, y_pred)\n",
        "my_f1_score * 100"
      ],
      "metadata": {
        "colab": {
          "base_uri": "https://localhost:8080/"
        },
        "id": "ytvg5gk1NipW",
        "outputId": "c175a069-d65a-4767-f6f8-48227f159d8a"
      },
      "execution_count": 13,
      "outputs": [
        {
          "output_type": "stream",
          "name": "stdout",
          "text": [
            "F1 Score:\n"
          ]
        },
        {
          "output_type": "execute_result",
          "data": {
            "text/plain": [
              "77.77777777777779"
            ]
          },
          "metadata": {},
          "execution_count": 13
        }
      ]
    },
    {
      "cell_type": "markdown",
      "source": [
        "# **TASK 4 & 5**"
      ],
      "metadata": {
        "id": "N1f-eMAVNmUJ"
      }
    },
    {
      "cell_type": "code",
      "source": [
        "from sklearn.naive_bayes import GaussianNB\n",
        "from sklearn.metrics import accuracy_score\n",
        "\n",
        "x = df[[\"thalach\", \"trestbps\", \"chol\"]]\n",
        "y = df.target.values\n",
        "x_train, x_test, y_train, y_test = train_test_split(x, y, test_size = 0.2,random_state=0)\n",
        "\n",
        "model = GaussianNB()\n",
        "model.fit(x_train, y_train)\n",
        "sk_y_pred = model.predict(x_test)"
      ],
      "metadata": {
        "id": "VMMxJKrlNpj9"
      },
      "execution_count": 14,
      "outputs": []
    },
    {
      "cell_type": "code",
      "source": [
        "accuracy = accuracy_score(y_test, sk_y_pred)\n",
        "print(\"Accuracy : \", accuracy * 100)"
      ],
      "metadata": {
        "colab": {
          "base_uri": "https://localhost:8080/"
        },
        "id": "QF0xYPg0NugW",
        "outputId": "2002b5a1-7e05-47c5-8cf2-0b173e6917ef"
      },
      "execution_count": 15,
      "outputs": [
        {
          "output_type": "stream",
          "name": "stdout",
          "text": [
            "Accuracy :  72.41379310344827\n"
          ]
        }
      ]
    },
    {
      "cell_type": "code",
      "source": [
        "print(\"Precision:\")\n",
        "p_score = precision_score(y_test, sk_y_pred)  \n",
        "print(p_score * 100)\n",
        "\n",
        "print(\"\\nMy Precision:\")\n",
        "print(my_p_score * 100)"
      ],
      "metadata": {
        "colab": {
          "base_uri": "https://localhost:8080/"
        },
        "id": "YsFM_6DTNzst",
        "outputId": "49e1a2bc-c954-4adf-b30d-f029ab27eff6"
      },
      "execution_count": 16,
      "outputs": [
        {
          "output_type": "stream",
          "name": "stdout",
          "text": [
            "Precision:\n",
            "67.56756756756756\n",
            "\n",
            "My Precision:\n",
            "75.67567567567568\n"
          ]
        }
      ]
    },
    {
      "cell_type": "code",
      "source": [
        "print(\"Recall:\")\n",
        "recall_score = recall_score(y_test, sk_y_pred)\n",
        "print(recall_score * 100)\n",
        "\n",
        "print(\"\\nMy Recall:\")\n",
        "print(my_recall_score * 100)"
      ],
      "metadata": {
        "colab": {
          "base_uri": "https://localhost:8080/"
        },
        "id": "nm4YOPDRN2on",
        "outputId": "f046cb47-357e-48f8-98f0-58458ddb993b"
      },
      "execution_count": 17,
      "outputs": [
        {
          "output_type": "stream",
          "name": "stdout",
          "text": [
            "Recall:\n",
            "86.20689655172413\n",
            "\n",
            "My Recall:\n",
            "80.0\n"
          ]
        }
      ]
    },
    {
      "cell_type": "code",
      "source": [
        "print(\"F1 Score:\")\n",
        "f1_score = f1_score(y_test, sk_y_pred)\n",
        "print(f1_score * 100)\n",
        "\n",
        "print(\"\\nMy F1 Score:\")\n",
        "print(my_f1_score * 100)"
      ],
      "metadata": {
        "colab": {
          "base_uri": "https://localhost:8080/"
        },
        "id": "q5CczK65N4_1",
        "outputId": "7fdee1d5-6b62-4bd3-fda0-7d7e9548b15d"
      },
      "execution_count": 18,
      "outputs": [
        {
          "output_type": "stream",
          "name": "stdout",
          "text": [
            "F1 Score:\n",
            "75.75757575757575\n",
            "\n",
            "My F1 Score:\n",
            "77.77777777777779\n"
          ]
        }
      ]
    }
  ]
}