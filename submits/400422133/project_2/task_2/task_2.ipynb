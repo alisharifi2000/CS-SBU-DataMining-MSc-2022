{
  "nbformat": 4,
  "nbformat_minor": 0,
  "metadata": {
    "colab": {
      "name": "task 2.ipynb",
      "provenance": [],
      "collapsed_sections": []
    },
    "kernelspec": {
      "name": "python3",
      "display_name": "Python 3"
    },
    "language_info": {
      "name": "python"
    }
  },
  "cells": [
    {
      "cell_type": "code",
      "source": [
        "import pandas as pd \n",
        "\n",
        "data = pd.read_csv('heart.csv')"
      ],
      "metadata": {
        "id": "IPXecSgWaFog"
      },
      "execution_count": 1,
      "outputs": []
    },
    {
      "cell_type": "code",
      "source": [
        "data.head()"
      ],
      "metadata": {
        "colab": {
          "base_uri": "https://localhost:8080/",
          "height": 206
        },
        "id": "XdfZRNUHaMkp",
        "outputId": "f1e7467e-044b-4b45-86b8-f14bf1e51d4d"
      },
      "execution_count": 2,
      "outputs": [
        {
          "output_type": "execute_result",
          "data": {
            "text/plain": [
              "   age  sex  cp  trestbps  chol  fbs  restecg  thalach  exang  oldpeak  slope  \\\n",
              "0   63    1   3       145   233    1        0      150      0      2.3      0   \n",
              "1   37    1   2       130   250    0        1      187      0      3.5      0   \n",
              "2   41    0   1       130   204    0        0      172      0      1.4      2   \n",
              "3   56    1   1       120   236    0        1      178      0      0.8      2   \n",
              "4   57    0   0       120   354    0        1      163      1      0.6      2   \n",
              "\n",
              "   ca  thal  target  \n",
              "0   0     1       1  \n",
              "1   0     2       1  \n",
              "2   0     2       1  \n",
              "3   0     2       1  \n",
              "4   0     2       1  "
            ],
            "text/html": [
              "\n",
              "  <div id=\"df-585f72b8-e9d4-4eda-9eeb-eeff79586956\">\n",
              "    <div class=\"colab-df-container\">\n",
              "      <div>\n",
              "<style scoped>\n",
              "    .dataframe tbody tr th:only-of-type {\n",
              "        vertical-align: middle;\n",
              "    }\n",
              "\n",
              "    .dataframe tbody tr th {\n",
              "        vertical-align: top;\n",
              "    }\n",
              "\n",
              "    .dataframe thead th {\n",
              "        text-align: right;\n",
              "    }\n",
              "</style>\n",
              "<table border=\"1\" class=\"dataframe\">\n",
              "  <thead>\n",
              "    <tr style=\"text-align: right;\">\n",
              "      <th></th>\n",
              "      <th>age</th>\n",
              "      <th>sex</th>\n",
              "      <th>cp</th>\n",
              "      <th>trestbps</th>\n",
              "      <th>chol</th>\n",
              "      <th>fbs</th>\n",
              "      <th>restecg</th>\n",
              "      <th>thalach</th>\n",
              "      <th>exang</th>\n",
              "      <th>oldpeak</th>\n",
              "      <th>slope</th>\n",
              "      <th>ca</th>\n",
              "      <th>thal</th>\n",
              "      <th>target</th>\n",
              "    </tr>\n",
              "  </thead>\n",
              "  <tbody>\n",
              "    <tr>\n",
              "      <th>0</th>\n",
              "      <td>63</td>\n",
              "      <td>1</td>\n",
              "      <td>3</td>\n",
              "      <td>145</td>\n",
              "      <td>233</td>\n",
              "      <td>1</td>\n",
              "      <td>0</td>\n",
              "      <td>150</td>\n",
              "      <td>0</td>\n",
              "      <td>2.3</td>\n",
              "      <td>0</td>\n",
              "      <td>0</td>\n",
              "      <td>1</td>\n",
              "      <td>1</td>\n",
              "    </tr>\n",
              "    <tr>\n",
              "      <th>1</th>\n",
              "      <td>37</td>\n",
              "      <td>1</td>\n",
              "      <td>2</td>\n",
              "      <td>130</td>\n",
              "      <td>250</td>\n",
              "      <td>0</td>\n",
              "      <td>1</td>\n",
              "      <td>187</td>\n",
              "      <td>0</td>\n",
              "      <td>3.5</td>\n",
              "      <td>0</td>\n",
              "      <td>0</td>\n",
              "      <td>2</td>\n",
              "      <td>1</td>\n",
              "    </tr>\n",
              "    <tr>\n",
              "      <th>2</th>\n",
              "      <td>41</td>\n",
              "      <td>0</td>\n",
              "      <td>1</td>\n",
              "      <td>130</td>\n",
              "      <td>204</td>\n",
              "      <td>0</td>\n",
              "      <td>0</td>\n",
              "      <td>172</td>\n",
              "      <td>0</td>\n",
              "      <td>1.4</td>\n",
              "      <td>2</td>\n",
              "      <td>0</td>\n",
              "      <td>2</td>\n",
              "      <td>1</td>\n",
              "    </tr>\n",
              "    <tr>\n",
              "      <th>3</th>\n",
              "      <td>56</td>\n",
              "      <td>1</td>\n",
              "      <td>1</td>\n",
              "      <td>120</td>\n",
              "      <td>236</td>\n",
              "      <td>0</td>\n",
              "      <td>1</td>\n",
              "      <td>178</td>\n",
              "      <td>0</td>\n",
              "      <td>0.8</td>\n",
              "      <td>2</td>\n",
              "      <td>0</td>\n",
              "      <td>2</td>\n",
              "      <td>1</td>\n",
              "    </tr>\n",
              "    <tr>\n",
              "      <th>4</th>\n",
              "      <td>57</td>\n",
              "      <td>0</td>\n",
              "      <td>0</td>\n",
              "      <td>120</td>\n",
              "      <td>354</td>\n",
              "      <td>0</td>\n",
              "      <td>1</td>\n",
              "      <td>163</td>\n",
              "      <td>1</td>\n",
              "      <td>0.6</td>\n",
              "      <td>2</td>\n",
              "      <td>0</td>\n",
              "      <td>2</td>\n",
              "      <td>1</td>\n",
              "    </tr>\n",
              "  </tbody>\n",
              "</table>\n",
              "</div>\n",
              "      <button class=\"colab-df-convert\" onclick=\"convertToInteractive('df-585f72b8-e9d4-4eda-9eeb-eeff79586956')\"\n",
              "              title=\"Convert this dataframe to an interactive table.\"\n",
              "              style=\"display:none;\">\n",
              "        \n",
              "  <svg xmlns=\"http://www.w3.org/2000/svg\" height=\"24px\"viewBox=\"0 0 24 24\"\n",
              "       width=\"24px\">\n",
              "    <path d=\"M0 0h24v24H0V0z\" fill=\"none\"/>\n",
              "    <path d=\"M18.56 5.44l.94 2.06.94-2.06 2.06-.94-2.06-.94-.94-2.06-.94 2.06-2.06.94zm-11 1L8.5 8.5l.94-2.06 2.06-.94-2.06-.94L8.5 2.5l-.94 2.06-2.06.94zm10 10l.94 2.06.94-2.06 2.06-.94-2.06-.94-.94-2.06-.94 2.06-2.06.94z\"/><path d=\"M17.41 7.96l-1.37-1.37c-.4-.4-.92-.59-1.43-.59-.52 0-1.04.2-1.43.59L10.3 9.45l-7.72 7.72c-.78.78-.78 2.05 0 2.83L4 21.41c.39.39.9.59 1.41.59.51 0 1.02-.2 1.41-.59l7.78-7.78 2.81-2.81c.8-.78.8-2.07 0-2.86zM5.41 20L4 18.59l7.72-7.72 1.47 1.35L5.41 20z\"/>\n",
              "  </svg>\n",
              "      </button>\n",
              "      \n",
              "  <style>\n",
              "    .colab-df-container {\n",
              "      display:flex;\n",
              "      flex-wrap:wrap;\n",
              "      gap: 12px;\n",
              "    }\n",
              "\n",
              "    .colab-df-convert {\n",
              "      background-color: #E8F0FE;\n",
              "      border: none;\n",
              "      border-radius: 50%;\n",
              "      cursor: pointer;\n",
              "      display: none;\n",
              "      fill: #1967D2;\n",
              "      height: 32px;\n",
              "      padding: 0 0 0 0;\n",
              "      width: 32px;\n",
              "    }\n",
              "\n",
              "    .colab-df-convert:hover {\n",
              "      background-color: #E2EBFA;\n",
              "      box-shadow: 0px 1px 2px rgba(60, 64, 67, 0.3), 0px 1px 3px 1px rgba(60, 64, 67, 0.15);\n",
              "      fill: #174EA6;\n",
              "    }\n",
              "\n",
              "    [theme=dark] .colab-df-convert {\n",
              "      background-color: #3B4455;\n",
              "      fill: #D2E3FC;\n",
              "    }\n",
              "\n",
              "    [theme=dark] .colab-df-convert:hover {\n",
              "      background-color: #434B5C;\n",
              "      box-shadow: 0px 1px 3px 1px rgba(0, 0, 0, 0.15);\n",
              "      filter: drop-shadow(0px 1px 2px rgba(0, 0, 0, 0.3));\n",
              "      fill: #FFFFFF;\n",
              "    }\n",
              "  </style>\n",
              "\n",
              "      <script>\n",
              "        const buttonEl =\n",
              "          document.querySelector('#df-585f72b8-e9d4-4eda-9eeb-eeff79586956 button.colab-df-convert');\n",
              "        buttonEl.style.display =\n",
              "          google.colab.kernel.accessAllowed ? 'block' : 'none';\n",
              "\n",
              "        async function convertToInteractive(key) {\n",
              "          const element = document.querySelector('#df-585f72b8-e9d4-4eda-9eeb-eeff79586956');\n",
              "          const dataTable =\n",
              "            await google.colab.kernel.invokeFunction('convertToInteractive',\n",
              "                                                     [key], {});\n",
              "          if (!dataTable) return;\n",
              "\n",
              "          const docLinkHtml = 'Like what you see? Visit the ' +\n",
              "            '<a target=\"_blank\" href=https://colab.research.google.com/notebooks/data_table.ipynb>data table notebook</a>'\n",
              "            + ' to learn more about interactive tables.';\n",
              "          element.innerHTML = '';\n",
              "          dataTable['output_type'] = 'display_data';\n",
              "          await google.colab.output.renderOutput(dataTable, element);\n",
              "          const docLink = document.createElement('div');\n",
              "          docLink.innerHTML = docLinkHtml;\n",
              "          element.appendChild(docLink);\n",
              "        }\n",
              "      </script>\n",
              "    </div>\n",
              "  </div>\n",
              "  "
            ]
          },
          "metadata": {},
          "execution_count": 2
        }
      ]
    },
    {
      "cell_type": "markdown",
      "source": [
        "##2,3"
      ],
      "metadata": {
        "id": "5JtYu2xisNre"
      }
    },
    {
      "cell_type": "code",
      "source": [
        "import numpy as np\n",
        "import pandas as pd\n",
        "import math\n",
        "\n",
        "\n",
        "class GaussianClf:\n",
        "    def separate_by_classes(self, X, y):\n",
        "        \"\"\"a function that separates our dataset in subdatasets by classes\n",
        "\n",
        "        Args:\n",
        "            X (np.ndarray): features\n",
        "            y (np.ndarray): labels\n",
        "\n",
        "        Returns:\n",
        "            np.ndarray: separated data\n",
        "        \"\"\"        \n",
        "        self.classes = np.unique(y)\n",
        "        classes_index = {}\n",
        "        subdatasets = {}\n",
        "        cls, counts = np.unique(y, return_counts=True)\n",
        "        self.class_freq = dict(zip(cls, counts))\n",
        "    \n",
        "        for class_type in self.classes:\n",
        "            classes_index[class_type] = np.argwhere(y==class_type)\n",
        "            subdatasets[class_type] = X[classes_index[class_type], :]\n",
        "            self.class_freq[class_type] = self.class_freq[class_type]/sum(list(self.class_freq.values()))\n",
        "        return subdatasets\n",
        "\n",
        "    def fit(self, X, y):\n",
        "        \"\"\"a function to fit model\n",
        "\n",
        "        Args:\n",
        "            X (np.ndarray): features\n",
        "            y (np.ndarray): labels\n",
        "        \"\"\"        \n",
        "        \n",
        "        separated_X = self.separate_by_classes(X, y)\n",
        "        self.means = {}\n",
        "        self.std = {}\n",
        "        for class_type in self.classes:\n",
        "            self.means[class_type] = np.mean(separated_X[class_type], axis=0)[0]\n",
        "            self.std[class_type] = np.std(separated_X[class_type], axis=0)[0]\n",
        "        \n",
        "    def calculate_probability(self, x, mean, stdev):\n",
        "        \"\"\"a function that calculates the class probability using gaussian distribution\n",
        "\n",
        "        Args:\n",
        "            x (np.array): feature\n",
        "            mean (float)): mean of feature\n",
        "            stdev (float): standard deviation of feature\n",
        "\n",
        "        Returns:\n",
        "            float: class probability\n",
        "        \"\"\"        \n",
        "\n",
        "        exponent = math.exp(-((x - mean) ** 2 / (2 * stdev ** 2)))\n",
        "        return (1 / (math.sqrt(2 * math.pi) * stdev)) * exponent\n",
        "\n",
        "    def predict_proba(self, X):\n",
        "        \"\"\"a function that predicts the probability for every class\n",
        "\n",
        "        Args:\n",
        "            X (np.ndarray): features\n",
        "\n",
        "        Returns:\n",
        "            float: class probability\n",
        "        \"\"\"        \n",
        "        \n",
        "        self.class_prob = {cls:math.log(self.class_freq[cls], math.e) for cls in self.classes}\n",
        "        for cls in self.classes:\n",
        "            for i in range(len(self.means)):\n",
        "                self.class_prob[cls]+=math.log(self.calculate_probability(X[i], self.means[cls][i], self.std[cls][i]), math.e)\n",
        "        self.class_prob = {cls: math.e**self.class_prob[cls] for cls in self.class_prob}\n",
        "        return self.class_prob\n",
        "\n",
        "    def predict(self, X):\n",
        "        \"\"\"a funtion that predicts the class of a sample\n",
        "\n",
        "        Args:\n",
        "            X (np.ndarray): features\n",
        "\n",
        "        Returns:\n",
        "            list : predictions\n",
        "        \"\"\"        \n",
        "        pred = []\n",
        "        for x in X:\n",
        "            pred_class = None\n",
        "            max_prob = 0\n",
        "        \n",
        "            for cls, prob in self.predict_proba(x).items():\n",
        "                if prob>max_prob:\n",
        "                    max_prob = prob\n",
        "                    pred_class = cls\n",
        "            pred.append(pred_class)\n",
        "        return pred"
      ],
      "metadata": {
        "id": "0t9Hd5tTaNph"
      },
      "execution_count": 23,
      "outputs": []
    },
    {
      "cell_type": "markdown",
      "source": [
        "### our model"
      ],
      "metadata": {
        "id": "ccenzSfOuB0t"
      }
    },
    {
      "cell_type": "code",
      "source": [
        "##use only three features for train and test with our model\n",
        "\n",
        "from sklearn.model_selection import train_test_split\n",
        "from sklearn.metrics import f1_score, precision_score, recall_score\n",
        "\n",
        "x = data[['thalach', 'trestbps', 'chol']].to_numpy()\n",
        "y = data['target'].to_numpy()\n",
        "x_train,x_test,y_train,y_test=train_test_split(x , y,test_size=.2, random_state=42)\n",
        "\n",
        "clf = GaussianClf()\n",
        "clf.fit(x_train, y_train)\n",
        "pred= clf.predict(x_test)\n",
        "print(f\"f1_score: {f1_score(y_test, pred)}\")\n",
        "print(f\"precision: {precision_score(y_test, pred)}\")\n",
        "print(f\"recall: {recall_score(y_test, pred)}\")"
      ],
      "metadata": {
        "colab": {
          "base_uri": "https://localhost:8080/"
        },
        "id": "bVRZFXDJd1ol",
        "outputId": "cb1698de-29f8-419f-d4a4-f35b9a43dc14"
      },
      "execution_count": 25,
      "outputs": [
        {
          "output_type": "stream",
          "name": "stdout",
          "text": [
            "f1_score: 0.763157894736842\n",
            "precision: 0.6590909090909091\n",
            "recall: 0.90625\n"
          ]
        }
      ]
    },
    {
      "cell_type": "code",
      "source": [
        "## use all features for train and test with our model \n",
        "\n",
        "from sklearn.model_selection import train_test_split\n",
        "from sklearn.metrics import f1_score, precision_score, recall_score\n",
        "from sklearn.naive_bayes import GaussianNB\n",
        "\n",
        "x = data.drop(['target'], axis=1).to_numpy()\n",
        "y = data['target'].to_numpy()\n",
        "x_train,x_test,y_train,y_test=train_test_split(x , y,test_size=.2, random_state=42)\n",
        "\n",
        "clf = GaussianClf()\n",
        "clf.fit(x_train, y_train)\n",
        "pred= clf.predict(x_test)\n",
        "print(f\"f1_score: {f1_score(y_test, pred)}\")\n",
        "print(f\"precision: {precision_score(y_test, pred)}\")\n",
        "print(f\"recall: {recall_score(y_test, pred)}\")"
      ],
      "metadata": {
        "colab": {
          "base_uri": "https://localhost:8080/"
        },
        "id": "iJRPvuDDtC9o",
        "outputId": "79ee7133-252b-4f89-8072-36662ec42a64"
      },
      "execution_count": 27,
      "outputs": [
        {
          "output_type": "stream",
          "name": "stdout",
          "text": [
            "f1_score: 0.676056338028169\n",
            "precision: 0.6153846153846154\n",
            "recall: 0.75\n"
          ]
        }
      ]
    },
    {
      "cell_type": "markdown",
      "source": [
        "### sklearn model"
      ],
      "metadata": {
        "id": "pIY6WTGluEnr"
      }
    },
    {
      "cell_type": "code",
      "source": [
        "## use all features for train and test with our model ##use only three features for train and test with sklearn model\n",
        "\n",
        "from sklearn.model_selection import train_test_split\n",
        "from sklearn.metrics import f1_score, precision_score, recall_score\n",
        "from sklearn.naive_bayes import GaussianNB\n",
        "\n",
        "x = data[['thalach', 'trestbps', 'chol']].to_numpy()\n",
        "y = data['target'].to_numpy()\n",
        "x_train,x_test,y_train,y_test=train_test_split(x , y,test_size=.2, random_state=42)\n",
        "\n",
        "clf = GaussianNB()\n",
        "clf.fit(x_train, y_train)\n",
        "pred= clf.predict(x_test)\n",
        "print(f\"f1_score: {f1_score(y_test, pred)}\")\n",
        "print(f\"precision: {precision_score(y_test, pred)}\")\n",
        "print(f\"recall: {recall_score(y_test, pred)}\")"
      ],
      "metadata": {
        "colab": {
          "base_uri": "https://localhost:8080/"
        },
        "id": "VyA9XDyja3VZ",
        "outputId": "6e34f04a-d4ce-4694-c71f-21be00bd549f"
      },
      "execution_count": 26,
      "outputs": [
        {
          "output_type": "stream",
          "name": "stdout",
          "text": [
            "f1_score: 0.7761194029850748\n",
            "precision: 0.7428571428571429\n",
            "recall: 0.8125\n"
          ]
        }
      ]
    },
    {
      "cell_type": "code",
      "source": [
        "## use all features for train and test with sklearn model\n",
        "\n",
        "from sklearn.model_selection import train_test_split\n",
        "from sklearn.metrics import f1_score, precision_score, recall_score\n",
        "from sklearn.naive_bayes import GaussianNB\n",
        "\n",
        "x = data.drop(['target'], axis=1).to_numpy()\n",
        "y = data['target'].to_numpy()\n",
        "x_train,x_test,y_train,y_test=train_test_split(x , y,test_size=.2, random_state=42)\n",
        "\n",
        "clf = GaussianNB()\n",
        "clf.fit(x_train, y_train)\n",
        "pred= clf.predict(x_test)\n",
        "print(f\"f1_score: {f1_score(y_test, pred)}\")\n",
        "print(f\"precision: {precision_score(y_test, pred)}\")\n",
        "print(f\"recall: {recall_score(y_test, pred)}\")"
      ],
      "metadata": {
        "colab": {
          "base_uri": "https://localhost:8080/"
        },
        "id": "nqp0c3UYeI9Z",
        "outputId": "d7fd2522-8bf2-4b8f-ba1e-ca9880164f45"
      },
      "execution_count": 28,
      "outputs": [
        {
          "output_type": "stream",
          "name": "stdout",
          "text": [
            "f1_score: 0.870967741935484\n",
            "precision: 0.9\n",
            "recall: 0.84375\n"
          ]
        }
      ]
    },
    {
      "cell_type": "code",
      "source": [
        ""
      ],
      "metadata": {
        "id": "tOBfjNhkiRLA"
      },
      "execution_count": null,
      "outputs": []
    }
  ]
}