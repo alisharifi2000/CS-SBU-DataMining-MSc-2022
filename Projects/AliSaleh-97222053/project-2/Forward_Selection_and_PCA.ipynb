{
  "nbformat": 4,
  "nbformat_minor": 0,
  "metadata": {
    "colab": {
      "name": "Forward Selection and PCA.ipynb",
      "provenance": [],
      "collapsed_sections": [],
      "toc_visible": true
    },
    "kernelspec": {
      "name": "python3",
      "display_name": "Python 3"
    },
    "language_info": {
      "name": "python"
    }
  },
  "cells": [
    {
      "cell_type": "code",
      "metadata": {
        "colab": {
          "base_uri": "https://localhost:8080/"
        },
        "id": "6O5GZiTKH1Zp",
        "outputId": "1df5de62-e4e7-465a-a2a7-91c46d2cbcfc"
      },
      "source": [
        "from google.colab import drive\n",
        "drive.mount('/content/drive')"
      ],
      "execution_count": null,
      "outputs": [
        {
          "output_type": "stream",
          "text": [
            "Mounted at /content/drive\n"
          ],
          "name": "stdout"
        }
      ]
    },
    {
      "cell_type": "code",
      "metadata": {
        "id": "-UM3hQwSH82n"
      },
      "source": [
        "# from google.colab import files\n",
        "# files.upload()  #this will prompt you to upload the kaggle.json\n",
        "\n",
        "# !pip install -q kaggle\n",
        "# !mkdir -p ~/.kaggle\n",
        "# !cp kaggle.json ~/.kaggle/\n",
        "# !ls ~/.kaggle\n",
        "# !chmod 600 /root/.kaggle/kaggle.json  # set permission\n"
      ],
      "execution_count": null,
      "outputs": []
    },
    {
      "cell_type": "code",
      "metadata": {
        "id": "U8tz6EXrIJQQ"
      },
      "source": [
        "# !kaggle datasets download -d iabhishekofficial/mobile-price-classification -p '/content/drive/MyDrive/Mobile Price Classification/'"
      ],
      "execution_count": null,
      "outputs": []
    },
    {
      "cell_type": "code",
      "metadata": {
        "id": "ZbPdEXayJyzC"
      },
      "source": [
        "# !unzip '/content/drive/MyDrive/Mobile Price Classification/mobile-price-classification.zip' -d '/content/drive/MyDrive/Mobile Price Classification/'"
      ],
      "execution_count": null,
      "outputs": []
    },
    {
      "cell_type": "code",
      "metadata": {
        "id": "Zqm0fW6aKJ2b"
      },
      "source": [
        "import pandas as pd\n",
        "import numpy as np"
      ],
      "execution_count": null,
      "outputs": []
    },
    {
      "cell_type": "code",
      "metadata": {
        "colab": {
          "base_uri": "https://localhost:8080/",
          "height": 419
        },
        "id": "g1MPEKIwKN2K",
        "outputId": "6939db79-d37e-4bed-d222-f3097e3adebf"
      },
      "source": [
        "dataset = pd.read_csv('/content/drive/MyDrive/Mobile Price Classification/train.csv')\n",
        "dataset"
      ],
      "execution_count": null,
      "outputs": [
        {
          "output_type": "execute_result",
          "data": {
            "text/html": [
              "<div>\n",
              "<style scoped>\n",
              "    .dataframe tbody tr th:only-of-type {\n",
              "        vertical-align: middle;\n",
              "    }\n",
              "\n",
              "    .dataframe tbody tr th {\n",
              "        vertical-align: top;\n",
              "    }\n",
              "\n",
              "    .dataframe thead th {\n",
              "        text-align: right;\n",
              "    }\n",
              "</style>\n",
              "<table border=\"1\" class=\"dataframe\">\n",
              "  <thead>\n",
              "    <tr style=\"text-align: right;\">\n",
              "      <th></th>\n",
              "      <th>battery_power</th>\n",
              "      <th>blue</th>\n",
              "      <th>clock_speed</th>\n",
              "      <th>dual_sim</th>\n",
              "      <th>fc</th>\n",
              "      <th>four_g</th>\n",
              "      <th>int_memory</th>\n",
              "      <th>m_dep</th>\n",
              "      <th>mobile_wt</th>\n",
              "      <th>n_cores</th>\n",
              "      <th>pc</th>\n",
              "      <th>px_height</th>\n",
              "      <th>px_width</th>\n",
              "      <th>ram</th>\n",
              "      <th>sc_h</th>\n",
              "      <th>sc_w</th>\n",
              "      <th>talk_time</th>\n",
              "      <th>three_g</th>\n",
              "      <th>touch_screen</th>\n",
              "      <th>wifi</th>\n",
              "      <th>price_range</th>\n",
              "    </tr>\n",
              "  </thead>\n",
              "  <tbody>\n",
              "    <tr>\n",
              "      <th>0</th>\n",
              "      <td>842</td>\n",
              "      <td>0</td>\n",
              "      <td>2.2</td>\n",
              "      <td>0</td>\n",
              "      <td>1</td>\n",
              "      <td>0</td>\n",
              "      <td>7</td>\n",
              "      <td>0.6</td>\n",
              "      <td>188</td>\n",
              "      <td>2</td>\n",
              "      <td>2</td>\n",
              "      <td>20</td>\n",
              "      <td>756</td>\n",
              "      <td>2549</td>\n",
              "      <td>9</td>\n",
              "      <td>7</td>\n",
              "      <td>19</td>\n",
              "      <td>0</td>\n",
              "      <td>0</td>\n",
              "      <td>1</td>\n",
              "      <td>1</td>\n",
              "    </tr>\n",
              "    <tr>\n",
              "      <th>1</th>\n",
              "      <td>1021</td>\n",
              "      <td>1</td>\n",
              "      <td>0.5</td>\n",
              "      <td>1</td>\n",
              "      <td>0</td>\n",
              "      <td>1</td>\n",
              "      <td>53</td>\n",
              "      <td>0.7</td>\n",
              "      <td>136</td>\n",
              "      <td>3</td>\n",
              "      <td>6</td>\n",
              "      <td>905</td>\n",
              "      <td>1988</td>\n",
              "      <td>2631</td>\n",
              "      <td>17</td>\n",
              "      <td>3</td>\n",
              "      <td>7</td>\n",
              "      <td>1</td>\n",
              "      <td>1</td>\n",
              "      <td>0</td>\n",
              "      <td>2</td>\n",
              "    </tr>\n",
              "    <tr>\n",
              "      <th>2</th>\n",
              "      <td>563</td>\n",
              "      <td>1</td>\n",
              "      <td>0.5</td>\n",
              "      <td>1</td>\n",
              "      <td>2</td>\n",
              "      <td>1</td>\n",
              "      <td>41</td>\n",
              "      <td>0.9</td>\n",
              "      <td>145</td>\n",
              "      <td>5</td>\n",
              "      <td>6</td>\n",
              "      <td>1263</td>\n",
              "      <td>1716</td>\n",
              "      <td>2603</td>\n",
              "      <td>11</td>\n",
              "      <td>2</td>\n",
              "      <td>9</td>\n",
              "      <td>1</td>\n",
              "      <td>1</td>\n",
              "      <td>0</td>\n",
              "      <td>2</td>\n",
              "    </tr>\n",
              "    <tr>\n",
              "      <th>3</th>\n",
              "      <td>615</td>\n",
              "      <td>1</td>\n",
              "      <td>2.5</td>\n",
              "      <td>0</td>\n",
              "      <td>0</td>\n",
              "      <td>0</td>\n",
              "      <td>10</td>\n",
              "      <td>0.8</td>\n",
              "      <td>131</td>\n",
              "      <td>6</td>\n",
              "      <td>9</td>\n",
              "      <td>1216</td>\n",
              "      <td>1786</td>\n",
              "      <td>2769</td>\n",
              "      <td>16</td>\n",
              "      <td>8</td>\n",
              "      <td>11</td>\n",
              "      <td>1</td>\n",
              "      <td>0</td>\n",
              "      <td>0</td>\n",
              "      <td>2</td>\n",
              "    </tr>\n",
              "    <tr>\n",
              "      <th>4</th>\n",
              "      <td>1821</td>\n",
              "      <td>1</td>\n",
              "      <td>1.2</td>\n",
              "      <td>0</td>\n",
              "      <td>13</td>\n",
              "      <td>1</td>\n",
              "      <td>44</td>\n",
              "      <td>0.6</td>\n",
              "      <td>141</td>\n",
              "      <td>2</td>\n",
              "      <td>14</td>\n",
              "      <td>1208</td>\n",
              "      <td>1212</td>\n",
              "      <td>1411</td>\n",
              "      <td>8</td>\n",
              "      <td>2</td>\n",
              "      <td>15</td>\n",
              "      <td>1</td>\n",
              "      <td>1</td>\n",
              "      <td>0</td>\n",
              "      <td>1</td>\n",
              "    </tr>\n",
              "    <tr>\n",
              "      <th>...</th>\n",
              "      <td>...</td>\n",
              "      <td>...</td>\n",
              "      <td>...</td>\n",
              "      <td>...</td>\n",
              "      <td>...</td>\n",
              "      <td>...</td>\n",
              "      <td>...</td>\n",
              "      <td>...</td>\n",
              "      <td>...</td>\n",
              "      <td>...</td>\n",
              "      <td>...</td>\n",
              "      <td>...</td>\n",
              "      <td>...</td>\n",
              "      <td>...</td>\n",
              "      <td>...</td>\n",
              "      <td>...</td>\n",
              "      <td>...</td>\n",
              "      <td>...</td>\n",
              "      <td>...</td>\n",
              "      <td>...</td>\n",
              "      <td>...</td>\n",
              "    </tr>\n",
              "    <tr>\n",
              "      <th>1995</th>\n",
              "      <td>794</td>\n",
              "      <td>1</td>\n",
              "      <td>0.5</td>\n",
              "      <td>1</td>\n",
              "      <td>0</td>\n",
              "      <td>1</td>\n",
              "      <td>2</td>\n",
              "      <td>0.8</td>\n",
              "      <td>106</td>\n",
              "      <td>6</td>\n",
              "      <td>14</td>\n",
              "      <td>1222</td>\n",
              "      <td>1890</td>\n",
              "      <td>668</td>\n",
              "      <td>13</td>\n",
              "      <td>4</td>\n",
              "      <td>19</td>\n",
              "      <td>1</td>\n",
              "      <td>1</td>\n",
              "      <td>0</td>\n",
              "      <td>0</td>\n",
              "    </tr>\n",
              "    <tr>\n",
              "      <th>1996</th>\n",
              "      <td>1965</td>\n",
              "      <td>1</td>\n",
              "      <td>2.6</td>\n",
              "      <td>1</td>\n",
              "      <td>0</td>\n",
              "      <td>0</td>\n",
              "      <td>39</td>\n",
              "      <td>0.2</td>\n",
              "      <td>187</td>\n",
              "      <td>4</td>\n",
              "      <td>3</td>\n",
              "      <td>915</td>\n",
              "      <td>1965</td>\n",
              "      <td>2032</td>\n",
              "      <td>11</td>\n",
              "      <td>10</td>\n",
              "      <td>16</td>\n",
              "      <td>1</td>\n",
              "      <td>1</td>\n",
              "      <td>1</td>\n",
              "      <td>2</td>\n",
              "    </tr>\n",
              "    <tr>\n",
              "      <th>1997</th>\n",
              "      <td>1911</td>\n",
              "      <td>0</td>\n",
              "      <td>0.9</td>\n",
              "      <td>1</td>\n",
              "      <td>1</td>\n",
              "      <td>1</td>\n",
              "      <td>36</td>\n",
              "      <td>0.7</td>\n",
              "      <td>108</td>\n",
              "      <td>8</td>\n",
              "      <td>3</td>\n",
              "      <td>868</td>\n",
              "      <td>1632</td>\n",
              "      <td>3057</td>\n",
              "      <td>9</td>\n",
              "      <td>1</td>\n",
              "      <td>5</td>\n",
              "      <td>1</td>\n",
              "      <td>1</td>\n",
              "      <td>0</td>\n",
              "      <td>3</td>\n",
              "    </tr>\n",
              "    <tr>\n",
              "      <th>1998</th>\n",
              "      <td>1512</td>\n",
              "      <td>0</td>\n",
              "      <td>0.9</td>\n",
              "      <td>0</td>\n",
              "      <td>4</td>\n",
              "      <td>1</td>\n",
              "      <td>46</td>\n",
              "      <td>0.1</td>\n",
              "      <td>145</td>\n",
              "      <td>5</td>\n",
              "      <td>5</td>\n",
              "      <td>336</td>\n",
              "      <td>670</td>\n",
              "      <td>869</td>\n",
              "      <td>18</td>\n",
              "      <td>10</td>\n",
              "      <td>19</td>\n",
              "      <td>1</td>\n",
              "      <td>1</td>\n",
              "      <td>1</td>\n",
              "      <td>0</td>\n",
              "    </tr>\n",
              "    <tr>\n",
              "      <th>1999</th>\n",
              "      <td>510</td>\n",
              "      <td>1</td>\n",
              "      <td>2.0</td>\n",
              "      <td>1</td>\n",
              "      <td>5</td>\n",
              "      <td>1</td>\n",
              "      <td>45</td>\n",
              "      <td>0.9</td>\n",
              "      <td>168</td>\n",
              "      <td>6</td>\n",
              "      <td>16</td>\n",
              "      <td>483</td>\n",
              "      <td>754</td>\n",
              "      <td>3919</td>\n",
              "      <td>19</td>\n",
              "      <td>4</td>\n",
              "      <td>2</td>\n",
              "      <td>1</td>\n",
              "      <td>1</td>\n",
              "      <td>1</td>\n",
              "      <td>3</td>\n",
              "    </tr>\n",
              "  </tbody>\n",
              "</table>\n",
              "<p>2000 rows × 21 columns</p>\n",
              "</div>"
            ],
            "text/plain": [
              "      battery_power  blue  clock_speed  ...  touch_screen  wifi  price_range\n",
              "0               842     0          2.2  ...             0     1            1\n",
              "1              1021     1          0.5  ...             1     0            2\n",
              "2               563     1          0.5  ...             1     0            2\n",
              "3               615     1          2.5  ...             0     0            2\n",
              "4              1821     1          1.2  ...             1     0            1\n",
              "...             ...   ...          ...  ...           ...   ...          ...\n",
              "1995            794     1          0.5  ...             1     0            0\n",
              "1996           1965     1          2.6  ...             1     1            2\n",
              "1997           1911     0          0.9  ...             1     0            3\n",
              "1998           1512     0          0.9  ...             1     1            0\n",
              "1999            510     1          2.0  ...             1     1            3\n",
              "\n",
              "[2000 rows x 21 columns]"
            ]
          },
          "metadata": {
            "tags": []
          },
          "execution_count": 6
        }
      ]
    },
    {
      "cell_type": "markdown",
      "metadata": {
        "id": "svzGx-dBijfd"
      },
      "source": [
        "# Pre Process"
      ]
    },
    {
      "cell_type": "code",
      "metadata": {
        "colab": {
          "base_uri": "https://localhost:8080/"
        },
        "id": "BW6pa-dTLF3Z",
        "outputId": "a2419bb8-931b-4839-a605-82ef36063963"
      },
      "source": [
        " for i in dataset.columns:\n",
        "   print(i, dataset[i].isna().sum())"
      ],
      "execution_count": null,
      "outputs": [
        {
          "output_type": "stream",
          "text": [
            "battery_power 0\n",
            "blue 0\n",
            "clock_speed 0\n",
            "dual_sim 0\n",
            "fc 0\n",
            "four_g 0\n",
            "int_memory 0\n",
            "m_dep 0\n",
            "mobile_wt 0\n",
            "n_cores 0\n",
            "pc 0\n",
            "px_height 0\n",
            "px_width 0\n",
            "ram 0\n",
            "sc_h 0\n",
            "sc_w 0\n",
            "talk_time 0\n",
            "three_g 0\n",
            "touch_screen 0\n",
            "wifi 0\n",
            "price_range 0\n"
          ],
          "name": "stdout"
        }
      ]
    },
    {
      "cell_type": "code",
      "metadata": {
        "id": "1yYU6PDYdDJh"
      },
      "source": [
        "from sklearn.model_selection import train_test_split\n",
        "\n",
        "X = dataset.drop(['price_range'], axis=1)\n",
        "y = dataset['price_range']\n"
      ],
      "execution_count": null,
      "outputs": []
    },
    {
      "cell_type": "code",
      "metadata": {
        "colab": {
          "base_uri": "https://localhost:8080/",
          "height": 419
        },
        "id": "hDexYXACbmjD",
        "outputId": "7df2f696-6a36-4bbf-8e2d-f8764771b914"
      },
      "source": [
        "from sklearn.preprocessing import StandardScaler\n",
        "\n",
        "sc = StandardScaler()\n",
        "X[X.columns] = sc.fit_transform(X[X.columns])\n",
        "X"
      ],
      "execution_count": null,
      "outputs": [
        {
          "output_type": "execute_result",
          "data": {
            "text/html": [
              "<div>\n",
              "<style scoped>\n",
              "    .dataframe tbody tr th:only-of-type {\n",
              "        vertical-align: middle;\n",
              "    }\n",
              "\n",
              "    .dataframe tbody tr th {\n",
              "        vertical-align: top;\n",
              "    }\n",
              "\n",
              "    .dataframe thead th {\n",
              "        text-align: right;\n",
              "    }\n",
              "</style>\n",
              "<table border=\"1\" class=\"dataframe\">\n",
              "  <thead>\n",
              "    <tr style=\"text-align: right;\">\n",
              "      <th></th>\n",
              "      <th>battery_power</th>\n",
              "      <th>blue</th>\n",
              "      <th>clock_speed</th>\n",
              "      <th>dual_sim</th>\n",
              "      <th>fc</th>\n",
              "      <th>four_g</th>\n",
              "      <th>int_memory</th>\n",
              "      <th>m_dep</th>\n",
              "      <th>mobile_wt</th>\n",
              "      <th>n_cores</th>\n",
              "      <th>pc</th>\n",
              "      <th>px_height</th>\n",
              "      <th>px_width</th>\n",
              "      <th>ram</th>\n",
              "      <th>sc_h</th>\n",
              "      <th>sc_w</th>\n",
              "      <th>talk_time</th>\n",
              "      <th>three_g</th>\n",
              "      <th>touch_screen</th>\n",
              "      <th>wifi</th>\n",
              "    </tr>\n",
              "  </thead>\n",
              "  <tbody>\n",
              "    <tr>\n",
              "      <th>0</th>\n",
              "      <td>-0.902597</td>\n",
              "      <td>-0.990050</td>\n",
              "      <td>0.830779</td>\n",
              "      <td>-1.019184</td>\n",
              "      <td>-0.762495</td>\n",
              "      <td>-1.043966</td>\n",
              "      <td>-1.380644</td>\n",
              "      <td>0.340740</td>\n",
              "      <td>1.349249</td>\n",
              "      <td>-1.101971</td>\n",
              "      <td>-1.305750</td>\n",
              "      <td>-1.408949</td>\n",
              "      <td>-1.146784</td>\n",
              "      <td>0.391703</td>\n",
              "      <td>-0.784983</td>\n",
              "      <td>0.283103</td>\n",
              "      <td>1.462493</td>\n",
              "      <td>-1.786861</td>\n",
              "      <td>-1.006018</td>\n",
              "      <td>0.986097</td>\n",
              "    </tr>\n",
              "    <tr>\n",
              "      <th>1</th>\n",
              "      <td>-0.495139</td>\n",
              "      <td>1.010051</td>\n",
              "      <td>-1.253064</td>\n",
              "      <td>0.981177</td>\n",
              "      <td>-0.992890</td>\n",
              "      <td>0.957886</td>\n",
              "      <td>1.155024</td>\n",
              "      <td>0.687548</td>\n",
              "      <td>-0.120059</td>\n",
              "      <td>-0.664768</td>\n",
              "      <td>-0.645989</td>\n",
              "      <td>0.585778</td>\n",
              "      <td>1.704465</td>\n",
              "      <td>0.467317</td>\n",
              "      <td>1.114266</td>\n",
              "      <td>-0.635317</td>\n",
              "      <td>-0.734267</td>\n",
              "      <td>0.559641</td>\n",
              "      <td>0.994018</td>\n",
              "      <td>-1.014099</td>\n",
              "    </tr>\n",
              "    <tr>\n",
              "      <th>2</th>\n",
              "      <td>-1.537686</td>\n",
              "      <td>1.010051</td>\n",
              "      <td>-1.253064</td>\n",
              "      <td>0.981177</td>\n",
              "      <td>-0.532099</td>\n",
              "      <td>0.957886</td>\n",
              "      <td>0.493546</td>\n",
              "      <td>1.381165</td>\n",
              "      <td>0.134244</td>\n",
              "      <td>0.209639</td>\n",
              "      <td>-0.645989</td>\n",
              "      <td>1.392684</td>\n",
              "      <td>1.074968</td>\n",
              "      <td>0.441498</td>\n",
              "      <td>-0.310171</td>\n",
              "      <td>-0.864922</td>\n",
              "      <td>-0.368140</td>\n",
              "      <td>0.559641</td>\n",
              "      <td>0.994018</td>\n",
              "      <td>-1.014099</td>\n",
              "    </tr>\n",
              "    <tr>\n",
              "      <th>3</th>\n",
              "      <td>-1.419319</td>\n",
              "      <td>1.010051</td>\n",
              "      <td>1.198517</td>\n",
              "      <td>-1.019184</td>\n",
              "      <td>-0.992890</td>\n",
              "      <td>-1.043966</td>\n",
              "      <td>-1.215274</td>\n",
              "      <td>1.034357</td>\n",
              "      <td>-0.261339</td>\n",
              "      <td>0.646842</td>\n",
              "      <td>-0.151168</td>\n",
              "      <td>1.286750</td>\n",
              "      <td>1.236971</td>\n",
              "      <td>0.594569</td>\n",
              "      <td>0.876859</td>\n",
              "      <td>0.512708</td>\n",
              "      <td>-0.002014</td>\n",
              "      <td>0.559641</td>\n",
              "      <td>-1.006018</td>\n",
              "      <td>-1.014099</td>\n",
              "    </tr>\n",
              "    <tr>\n",
              "      <th>4</th>\n",
              "      <td>1.325906</td>\n",
              "      <td>1.010051</td>\n",
              "      <td>-0.395011</td>\n",
              "      <td>-1.019184</td>\n",
              "      <td>2.002254</td>\n",
              "      <td>0.957886</td>\n",
              "      <td>0.658915</td>\n",
              "      <td>0.340740</td>\n",
              "      <td>0.021220</td>\n",
              "      <td>-1.101971</td>\n",
              "      <td>0.673534</td>\n",
              "      <td>1.268718</td>\n",
              "      <td>-0.091452</td>\n",
              "      <td>-0.657666</td>\n",
              "      <td>-1.022389</td>\n",
              "      <td>-0.864922</td>\n",
              "      <td>0.730240</td>\n",
              "      <td>0.559641</td>\n",
              "      <td>0.994018</td>\n",
              "      <td>-1.014099</td>\n",
              "    </tr>\n",
              "    <tr>\n",
              "      <th>...</th>\n",
              "      <td>...</td>\n",
              "      <td>...</td>\n",
              "      <td>...</td>\n",
              "      <td>...</td>\n",
              "      <td>...</td>\n",
              "      <td>...</td>\n",
              "      <td>...</td>\n",
              "      <td>...</td>\n",
              "      <td>...</td>\n",
              "      <td>...</td>\n",
              "      <td>...</td>\n",
              "      <td>...</td>\n",
              "      <td>...</td>\n",
              "      <td>...</td>\n",
              "      <td>...</td>\n",
              "      <td>...</td>\n",
              "      <td>...</td>\n",
              "      <td>...</td>\n",
              "      <td>...</td>\n",
              "      <td>...</td>\n",
              "    </tr>\n",
              "    <tr>\n",
              "      <th>1995</th>\n",
              "      <td>-1.011860</td>\n",
              "      <td>1.010051</td>\n",
              "      <td>-1.253064</td>\n",
              "      <td>0.981177</td>\n",
              "      <td>-0.992890</td>\n",
              "      <td>0.957886</td>\n",
              "      <td>-1.656260</td>\n",
              "      <td>1.034357</td>\n",
              "      <td>-0.967737</td>\n",
              "      <td>0.646842</td>\n",
              "      <td>0.673534</td>\n",
              "      <td>1.300273</td>\n",
              "      <td>1.477661</td>\n",
              "      <td>-1.342799</td>\n",
              "      <td>0.164641</td>\n",
              "      <td>-0.405712</td>\n",
              "      <td>1.462493</td>\n",
              "      <td>0.559641</td>\n",
              "      <td>0.994018</td>\n",
              "      <td>-1.014099</td>\n",
              "    </tr>\n",
              "    <tr>\n",
              "      <th>1996</th>\n",
              "      <td>1.653694</td>\n",
              "      <td>1.010051</td>\n",
              "      <td>1.321096</td>\n",
              "      <td>0.981177</td>\n",
              "      <td>-0.992890</td>\n",
              "      <td>-1.043966</td>\n",
              "      <td>0.383299</td>\n",
              "      <td>-1.046495</td>\n",
              "      <td>1.320993</td>\n",
              "      <td>-0.227564</td>\n",
              "      <td>-1.140810</td>\n",
              "      <td>0.608317</td>\n",
              "      <td>1.651235</td>\n",
              "      <td>-0.085031</td>\n",
              "      <td>-0.310171</td>\n",
              "      <td>0.971917</td>\n",
              "      <td>0.913303</td>\n",
              "      <td>0.559641</td>\n",
              "      <td>0.994018</td>\n",
              "      <td>0.986097</td>\n",
              "    </tr>\n",
              "    <tr>\n",
              "      <th>1997</th>\n",
              "      <td>1.530773</td>\n",
              "      <td>-0.990050</td>\n",
              "      <td>-0.762748</td>\n",
              "      <td>0.981177</td>\n",
              "      <td>-0.762495</td>\n",
              "      <td>0.957886</td>\n",
              "      <td>0.217930</td>\n",
              "      <td>0.687548</td>\n",
              "      <td>-0.911225</td>\n",
              "      <td>1.521249</td>\n",
              "      <td>-1.140810</td>\n",
              "      <td>0.502383</td>\n",
              "      <td>0.880565</td>\n",
              "      <td>0.860139</td>\n",
              "      <td>-0.784983</td>\n",
              "      <td>-1.094526</td>\n",
              "      <td>-1.100394</td>\n",
              "      <td>0.559641</td>\n",
              "      <td>0.994018</td>\n",
              "      <td>-1.014099</td>\n",
              "    </tr>\n",
              "    <tr>\n",
              "      <th>1998</th>\n",
              "      <td>0.622527</td>\n",
              "      <td>-0.990050</td>\n",
              "      <td>-0.762748</td>\n",
              "      <td>-1.019184</td>\n",
              "      <td>-0.071307</td>\n",
              "      <td>0.957886</td>\n",
              "      <td>0.769162</td>\n",
              "      <td>-1.393304</td>\n",
              "      <td>0.134244</td>\n",
              "      <td>0.209639</td>\n",
              "      <td>-0.810929</td>\n",
              "      <td>-0.696707</td>\n",
              "      <td>-1.345816</td>\n",
              "      <td>-1.157454</td>\n",
              "      <td>1.351672</td>\n",
              "      <td>0.971917</td>\n",
              "      <td>1.462493</td>\n",
              "      <td>0.559641</td>\n",
              "      <td>0.994018</td>\n",
              "      <td>0.986097</td>\n",
              "    </tr>\n",
              "    <tr>\n",
              "      <th>1999</th>\n",
              "      <td>-1.658331</td>\n",
              "      <td>1.010051</td>\n",
              "      <td>0.585621</td>\n",
              "      <td>0.981177</td>\n",
              "      <td>0.159088</td>\n",
              "      <td>0.957886</td>\n",
              "      <td>0.714039</td>\n",
              "      <td>1.381165</td>\n",
              "      <td>0.784130</td>\n",
              "      <td>0.646842</td>\n",
              "      <td>1.003414</td>\n",
              "      <td>-0.365380</td>\n",
              "      <td>-1.151413</td>\n",
              "      <td>1.655004</td>\n",
              "      <td>1.589078</td>\n",
              "      <td>-0.405712</td>\n",
              "      <td>-1.649584</td>\n",
              "      <td>0.559641</td>\n",
              "      <td>0.994018</td>\n",
              "      <td>0.986097</td>\n",
              "    </tr>\n",
              "  </tbody>\n",
              "</table>\n",
              "<p>2000 rows × 20 columns</p>\n",
              "</div>"
            ],
            "text/plain": [
              "      battery_power      blue  clock_speed  ...   three_g  touch_screen      wifi\n",
              "0         -0.902597 -0.990050     0.830779  ... -1.786861     -1.006018  0.986097\n",
              "1         -0.495139  1.010051    -1.253064  ...  0.559641      0.994018 -1.014099\n",
              "2         -1.537686  1.010051    -1.253064  ...  0.559641      0.994018 -1.014099\n",
              "3         -1.419319  1.010051     1.198517  ...  0.559641     -1.006018 -1.014099\n",
              "4          1.325906  1.010051    -0.395011  ...  0.559641      0.994018 -1.014099\n",
              "...             ...       ...          ...  ...       ...           ...       ...\n",
              "1995      -1.011860  1.010051    -1.253064  ...  0.559641      0.994018 -1.014099\n",
              "1996       1.653694  1.010051     1.321096  ...  0.559641      0.994018  0.986097\n",
              "1997       1.530773 -0.990050    -0.762748  ...  0.559641      0.994018 -1.014099\n",
              "1998       0.622527 -0.990050    -0.762748  ...  0.559641      0.994018  0.986097\n",
              "1999      -1.658331  1.010051     0.585621  ...  0.559641      0.994018  0.986097\n",
              "\n",
              "[2000 rows x 20 columns]"
            ]
          },
          "metadata": {
            "tags": []
          },
          "execution_count": 9
        }
      ]
    },
    {
      "cell_type": "code",
      "metadata": {
        "id": "OqLKuJfqev6C"
      },
      "source": [
        "X_train, X_test, y_train, y_test = train_test_split(X, y, test_size=0.2, random_state=0)"
      ],
      "execution_count": null,
      "outputs": []
    },
    {
      "cell_type": "markdown",
      "metadata": {
        "id": "_5GQn3ETiuAF"
      },
      "source": [
        "# Logistic Regresssion"
      ]
    },
    {
      "cell_type": "code",
      "metadata": {
        "colab": {
          "base_uri": "https://localhost:8080/"
        },
        "id": "_Ld73Qz-czzM",
        "outputId": "75b1b486-2053-48c4-eaae-a60403ce82b8"
      },
      "source": [
        "from sklearn.linear_model import LogisticRegression\n",
        "\n",
        "logisticRegr = LogisticRegression()\n",
        "logisticRegr.fit(X_train, y_train)"
      ],
      "execution_count": null,
      "outputs": [
        {
          "output_type": "execute_result",
          "data": {
            "text/plain": [
              "LogisticRegression(C=1.0, class_weight=None, dual=False, fit_intercept=True,\n",
              "                   intercept_scaling=1, l1_ratio=None, max_iter=100,\n",
              "                   multi_class='auto', n_jobs=None, penalty='l2',\n",
              "                   random_state=None, solver='lbfgs', tol=0.0001, verbose=0,\n",
              "                   warm_start=False)"
            ]
          },
          "metadata": {
            "tags": []
          },
          "execution_count": 11
        }
      ]
    },
    {
      "cell_type": "code",
      "metadata": {
        "colab": {
          "base_uri": "https://localhost:8080/"
        },
        "id": "hBRCEq34e_0w",
        "outputId": "14ed6ddc-4329-4411-934f-0287d99661ba"
      },
      "source": [
        "predict_test = logisticRegr.predict(X_test[0:10])\n",
        "print('y:   ', list(y_test[0:10]))\n",
        "print('pred:', list(predict_test))"
      ],
      "execution_count": null,
      "outputs": [
        {
          "output_type": "stream",
          "text": [
            "y:    [3, 0, 2, 2, 2, 0, 0, 3, 3, 1]\n",
            "pred: [3, 0, 2, 2, 3, 0, 0, 3, 3, 1]\n"
          ],
          "name": "stdout"
        }
      ]
    },
    {
      "cell_type": "code",
      "metadata": {
        "colab": {
          "base_uri": "https://localhost:8080/"
        },
        "id": "l26Fjq3ee22X",
        "outputId": "cb62235b-8091-406a-b5eb-5aae6bd94db7"
      },
      "source": [
        "score = logisticRegr.score(X_test, y_test)\n",
        "print(score)\n"
      ],
      "execution_count": null,
      "outputs": [
        {
          "output_type": "stream",
          "text": [
            "0.955\n"
          ],
          "name": "stdout"
        }
      ]
    },
    {
      "cell_type": "code",
      "metadata": {
        "colab": {
          "base_uri": "https://localhost:8080/"
        },
        "id": "nd7_rzaGNyMo",
        "outputId": "7a53f1f2-3d15-4041-8679-0e58ef04e9a7"
      },
      "source": [
        "from sklearn.metrics import precision_recall_fscore_support\n",
        "\n",
        "percision, recall, f1score, support = precision_recall_fscore_support(y_test, logisticRegr.predict(X_test))\n",
        "print('percision:', percision)\n",
        "print('recall:', recall)\n",
        "print('f1score:', f1score)\n"
      ],
      "execution_count": null,
      "outputs": [
        {
          "output_type": "stream",
          "text": [
            "percision: [0.97894737 0.94444444 0.93814433 0.95762712]\n",
            "recall: [0.97894737 0.92391304 0.91919192 0.99122807]\n",
            "f1score: [0.97894737 0.93406593 0.92857143 0.97413793]\n"
          ],
          "name": "stdout"
        }
      ]
    },
    {
      "cell_type": "code",
      "metadata": {
        "colab": {
          "base_uri": "https://localhost:8080/",
          "height": 297
        },
        "id": "ObRpn4yEjYmh",
        "outputId": "811cef4d-5368-4224-cf6a-175bfd52f922"
      },
      "source": [
        "import matplotlib.pyplot as plt\n",
        "\n",
        "plt.hist(y)\n",
        "plt.xlabel('price_range')\n",
        "plt.ylabel('count')\n"
      ],
      "execution_count": null,
      "outputs": [
        {
          "output_type": "execute_result",
          "data": {
            "text/plain": [
              "Text(0, 0.5, 'count')"
            ]
          },
          "metadata": {
            "tags": []
          },
          "execution_count": 15
        },
        {
          "output_type": "display_data",
          "data": {
            "image/png": "[encoded data removed]",
            "text/plain": [
              "<Figure size 432x288 with 1 Axes>"
            ]
          },
          "metadata": {
            "tags": [],
            "needs_background": "light"
          }
        }
      ]
    },
    {
      "cell_type": "markdown",
      "metadata": {
        "id": "72CuL70tjDiO"
      },
      "source": [
        "# Forward Selection"
      ]
    },
    {
      "cell_type": "code",
      "metadata": {
        "id": "ENudkmAX3JkW"
      },
      "source": [
        "from sklearn.metrics import auc\n",
        "\n",
        "def forward_selection(X, y):\n",
        "  features = []\n",
        "  final_features = {'features': [], 'scores': []}\n",
        "  rem_features = X.columns\n",
        "  for i in range(len(X.columns)):\n",
        "    max_score = 0\n",
        "    best_feature = \"\"\n",
        "    best_score = 0\n",
        "    for feature in rem_features:\n",
        "      new_X = X[features + [feature]]\n",
        "      X_train, X_test, y_train, y_test = train_test_split(new_X, y, test_size=0.2, random_state=0)\n",
        "      logisticRegr = LogisticRegression()\n",
        "      logisticRegr.fit(X_train, y_train)\n",
        "      score = logisticRegr.score(X_test, y_test)\n",
        "      if score > max_score :\n",
        "        max_score = score\n",
        "        best_feature = feature\n",
        "        best_score = score\n",
        "    rem_features = rem_features.drop(best_feature)\n",
        "    features.append(best_feature)\n",
        "\n",
        "    final_features['features'].append(best_feature)\n",
        "    final_features['scores'].append(best_score)\n",
        "  final_features['features_rank'] = range(len(X.columns))\n",
        "\n",
        "  best_index = 0\n",
        "  mx_feature = 0\n",
        "  for i in range(len(final_features['scores'])):\n",
        "    if final_features['scores'][i] > mx_feature:\n",
        "      mx_feature = final_features['scores'][i] \n",
        "      best_index = i\n",
        "\n",
        "  final_features['best_features'] = final_features['features'][:best_index]\n",
        "  return final_features"
      ],
      "execution_count": null,
      "outputs": []
    },
    {
      "cell_type": "code",
      "metadata": {
        "id": "rprjHVeB9wxa"
      },
      "source": [
        "dataset = pd.read_csv('/content/drive/MyDrive/Mobile Price Classification/train.csv')\n",
        "\n",
        "X = dataset.drop(['price_range'], axis=1)\n",
        "y = dataset['price_range']\n",
        "\n",
        "sc = StandardScaler()\n",
        "X[X.columns] = sc.fit_transform(X[X.columns])\n"
      ],
      "execution_count": null,
      "outputs": []
    },
    {
      "cell_type": "code",
      "metadata": {
        "colab": {
          "base_uri": "https://localhost:8080/"
        },
        "id": "lGaBXWh-3OMj",
        "outputId": "d36bbb45-2acc-4295-cc73-3b185227c8ee"
      },
      "source": [
        "fs = forward_selection(X, y)\n"
      ],
      "execution_count": null,
      "outputs": [
        {
          "output_type": "stream",
          "text": [
            "{'features': ['ram', 'battery_power', 'px_height', 'px_width', 'mobile_wt', 'dual_sim', 'sc_h', 'pc', 'talk_time', 'wifi', 'sc_w', 'fc', 'blue', 'int_memory', 'three_g', 'four_g', 'm_dep', 'n_cores', 'clock_speed', 'touch_screen'], 'scores': [0.7725, 0.8225, 0.9125, 0.95, 0.975, 0.98, 0.9825, 0.98, 0.98, 0.98, 0.98, 0.9825, 0.975, 0.9725, 0.975, 0.97, 0.97, 0.97, 0.9675, 0.955], 'features_rank': range(0, 20), 'best_features': ['ram', 'battery_power', 'px_height', 'px_width', 'mobile_wt', 'dual_sim']}\n"
          ],
          "name": "stdout"
        }
      ]
    },
    {
      "cell_type": "code",
      "metadata": {
        "colab": {
          "base_uri": "https://localhost:8080/",
          "height": 282
        },
        "id": "mjD9dfxDFVnO",
        "outputId": "7a774396-0752-4b62-d31c-e481bcaad4d7"
      },
      "source": [
        "plt.plot(fs['features_rank'], fs['scores'])"
      ],
      "execution_count": null,
      "outputs": [
        {
          "output_type": "execute_result",
          "data": {
            "text/plain": [
              "[<matplotlib.lines.Line2D at 0x7f11bacaf090>]"
            ]
          },
          "metadata": {
            "tags": []
          },
          "execution_count": 64
        },
        {
          "output_type": "display_data",
          "data": {
            "image/png": "[encoded data removed]",
            "text/plain": [
              "<Figure size 432x288 with 1 Axes>"
            ]
          },
          "metadata": {
            "tags": [],
            "needs_background": "light"
          }
        }
      ]
    },
    {
      "cell_type": "code",
      "metadata": {
        "colab": {
          "base_uri": "https://localhost:8080/"
        },
        "id": "qfT8SlzrOfh_",
        "outputId": "9a33681c-bd5c-4b01-c876-3d7bdf6db5a9"
      },
      "source": [
        "best_features = fs['best_features']\n",
        "best_features"
      ],
      "execution_count": null,
      "outputs": [
        {
          "output_type": "execute_result",
          "data": {
            "text/plain": [
              "['ram', 'battery_power', 'px_height', 'px_width', 'mobile_wt', 'dual_sim']"
            ]
          },
          "metadata": {
            "tags": []
          },
          "execution_count": 67
        }
      ]
    },
    {
      "cell_type": "code",
      "metadata": {
        "colab": {
          "base_uri": "https://localhost:8080/"
        },
        "id": "yozVVireOw15",
        "outputId": "8ce1e881-43ec-4e2b-c996-8e0688141001"
      },
      "source": [
        "X = X[best_features]\n",
        "X_train, X_test, y_train, y_test = train_test_split(X, y, test_size=0.2, random_state=0)\n",
        "\n",
        "logisticRegr = LogisticRegression()\n",
        "logisticRegr.fit(X_train, y_train)\n",
        "\n",
        "predict_test = logisticRegr.predict(X_test[0:10])\n",
        "print('y:   ', list(y_test[0:10]))\n",
        "print('pred:', list(predict_test))\n",
        "\n",
        "score = logisticRegr.score(X_test, y_test)\n",
        "print('score', score)\n",
        "\n",
        "percision, recall, f1score, support = precision_recall_fscore_support(y_test, logisticRegr.predict(X_test))\n",
        "print('percision:', percision)\n",
        "print('recall:', recall)\n",
        "print('f1score:', f1score)"
      ],
      "execution_count": null,
      "outputs": [
        {
          "output_type": "stream",
          "text": [
            "y:    [3, 0, 2, 2, 2, 0, 0, 3, 3, 1]\n",
            "pred: [3, 0, 2, 2, 2, 0, 0, 3, 3, 1]\n",
            "score 0.98\n",
            "percision: [0.97894737 0.94736842 0.98969072 1.        ]\n",
            "recall: [0.97894737 0.97826087 0.96969697 0.99122807]\n",
            "f1score: [0.97894737 0.96256684 0.97959184 0.99559471]\n"
          ],
          "name": "stdout"
        }
      ]
    },
    {
      "cell_type": "markdown",
      "metadata": {
        "id": "do7i8kAAjH14"
      },
      "source": [
        "# PCA"
      ]
    },
    {
      "cell_type": "code",
      "metadata": {
        "id": "5C_nhLyEUV0N"
      },
      "source": [
        "from sklearn.decomposition import PCA\n",
        "\n",
        "X = dataset.drop(['price_range'], axis=1)\n",
        "y = dataset['price_range']\n",
        "pca = PCA(n_components=6)\n",
        "X = pca.fit_transform(X)\n"
      ],
      "execution_count": null,
      "outputs": []
    },
    {
      "cell_type": "code",
      "metadata": {
        "colab": {
          "base_uri": "https://localhost:8080/"
        },
        "id": "Rgn6pkksUwg1",
        "outputId": "802c2a05-c5fa-40b7-b4fc-4944ad3942d5"
      },
      "source": [
        "X_train, X_test, y_train, y_test = train_test_split(X, y, test_size=0.2, random_state=0)\n",
        "\n",
        "logisticRegr = LogisticRegression(max_iter=10000)\n",
        "logisticRegr.fit(X_train, y_train)\n",
        "\n",
        "predict_test = logisticRegr.predict(X_test[0:10])\n",
        "print('y:   ', list(y_test[0:10]))\n",
        "print('pred:', list(predict_test))\n",
        "\n",
        "score = logisticRegr.score(X_test, y_test)\n",
        "print('score', score)\n",
        "\n",
        "percision, recall, f1score, support = precision_recall_fscore_support(y_test, logisticRegr.predict(X_test))\n",
        "print('percision:', percision)\n",
        "print('recall:', recall)\n",
        "print('f1score:', f1score)"
      ],
      "execution_count": null,
      "outputs": [
        {
          "output_type": "stream",
          "text": [
            "y:    [3, 0, 2, 2, 2, 0, 0, 3, 3, 1]\n",
            "pred: [3, 0, 2, 2, 2, 0, 0, 3, 3, 1]\n",
            "score 0.98\n",
            "percision: [0.98958333 0.97849462 0.96938776 0.98230088]\n",
            "recall: [1.         0.98913043 0.95959596 0.97368421]\n",
            "f1score: [0.9947644  0.98378378 0.96446701 0.97797357]\n"
          ],
          "name": "stdout"
        }
      ]
    },
    {
      "cell_type": "markdown",
      "metadata": {
        "id": "OqftK7V3jJuH"
      },
      "source": [
        "# Backward Selection"
      ]
    },
    {
      "cell_type": "code",
      "metadata": {
        "id": "Zb8i0uP4WQS_"
      },
      "source": [
        "from sklearn.metrics import auc\n",
        "\n",
        "def backward_selection(X, y):\n",
        "  features = X.columns\n",
        "  final_features = {'features': [], 'scores': []}\n",
        "  rem_features = X.columns\n",
        "  for i in range(len(X.columns)):\n",
        "    max_score = 0\n",
        "    worst_feature = \"\"\n",
        "    worst_score = 0\n",
        "    for feature in rem_features:\n",
        "      new_X = X[features.drop(feature)]\n",
        "      X_train, X_test, y_train, y_test = train_test_split(new_X, y, test_size=0.2, random_state=0)\n",
        "      logisticRegr = LogisticRegression()\n",
        "      logisticRegr.fit(X_train, y_train)\n",
        "      score = logisticRegr.score(X_test, y_test)\n",
        "      if score > max_score :\n",
        "        max_score = score\n",
        "        worst_feature = feature\n",
        "        worst_score = score\n",
        "    rem_features = rem_features.drop(worst_feature)\n",
        "    features.drop(worst_feature)\n",
        "\n",
        "    final_features['features'].append(worst_feature)\n",
        "    final_features['scores'].append(worst_score)\n",
        "  final_features['features_rank'] = range(len(X.columns))\n",
        "\n",
        "  \n",
        "  return final_features"
      ],
      "execution_count": null,
      "outputs": []
    },
    {
      "cell_type": "code",
      "metadata": {
        "id": "GqWEiougXaxj"
      },
      "source": [
        "dataset = pd.read_csv('/content/drive/MyDrive/Mobile Price Classification/train.csv')\n",
        "\n",
        "X = dataset.drop(['price_range'], axis=1)\n",
        "y = dataset['price_range']\n",
        "\n",
        "sc = StandardScaler()\n",
        "X[X.columns] = sc.fit_transform(X[X.columns])\n"
      ],
      "execution_count": null,
      "outputs": []
    },
    {
      "cell_type": "code",
      "metadata": {
        "colab": {
          "base_uri": "https://localhost:8080/"
        },
        "id": "XnZo-d89XdjU",
        "outputId": "16f1b53c-10ae-452b-80bc-91b26987477f"
      },
      "source": [
        "bs = backward_selection(X, y)\n",
        "bs"
      ],
      "execution_count": null,
      "outputs": [
        {
          "output_type": "execute_result",
          "data": {
            "text/plain": [
              "{'best_features': ['touch_screen',\n",
              "  'int_memory',\n",
              "  'clock_speed',\n",
              "  'dual_sim',\n",
              "  'fc',\n",
              "  'm_dep',\n",
              "  'n_cores',\n",
              "  'pc',\n",
              "  'sc_w',\n",
              "  'talk_time',\n",
              "  'blue',\n",
              "  'sc_h',\n",
              "  'three_g',\n",
              "  'four_g',\n",
              "  'wifi'],\n",
              " 'features': ['touch_screen',\n",
              "  'int_memory',\n",
              "  'clock_speed',\n",
              "  'dual_sim',\n",
              "  'fc',\n",
              "  'm_dep',\n",
              "  'n_cores',\n",
              "  'pc',\n",
              "  'sc_w',\n",
              "  'talk_time',\n",
              "  'blue',\n",
              "  'sc_h',\n",
              "  'three_g',\n",
              "  'four_g',\n",
              "  'wifi',\n",
              "  'mobile_wt',\n",
              "  'px_height',\n",
              "  'px_width',\n",
              "  'battery_power',\n",
              "  'ram'],\n",
              " 'features_rank': range(0, 20),\n",
              " 'scores': [0.9675,\n",
              "  0.9625,\n",
              "  0.96,\n",
              "  0.96,\n",
              "  0.96,\n",
              "  0.96,\n",
              "  0.9575,\n",
              "  0.9575,\n",
              "  0.955,\n",
              "  0.955,\n",
              "  0.9525,\n",
              "  0.9525,\n",
              "  0.9525,\n",
              "  0.95,\n",
              "  0.9475,\n",
              "  0.9425,\n",
              "  0.9025,\n",
              "  0.9025,\n",
              "  0.8325,\n",
              "  0.33]}"
            ]
          },
          "metadata": {
            "tags": []
          },
          "execution_count": 133
        }
      ]
    },
    {
      "cell_type": "code",
      "metadata": {
        "colab": {
          "base_uri": "https://localhost:8080/",
          "height": 282
        },
        "id": "2kXdlVJLboUG",
        "outputId": "d59a5ce7-84cd-47d1-cc29-c64531270774"
      },
      "source": [
        "plt.plot(bs['features_rank'], bs['scores'])"
      ],
      "execution_count": null,
      "outputs": [
        {
          "output_type": "execute_result",
          "data": {
            "text/plain": [
              "[<matplotlib.lines.Line2D at 0x7f11b8511210>]"
            ]
          },
          "metadata": {
            "tags": []
          },
          "execution_count": 129
        },
        {
          "output_type": "display_data",
          "data": {
            "image/png": "[encoded data removed]",
            "text/plain": [
              "<Figure size 432x288 with 1 Axes>"
            ]
          },
          "metadata": {
            "tags": [],
            "needs_background": "light"
          }
        }
      ]
    },
    {
      "cell_type": "code",
      "metadata": {
        "colab": {
          "base_uri": "https://localhost:8080/"
        },
        "id": "xcv0NY1ZZlkT",
        "outputId": "96f3741e-b0d3-4139-ebad-e9b421371e5b"
      },
      "source": [
        "dataset = pd.read_csv('/content/drive/MyDrive/Mobile Price Classification/train.csv')\n",
        "\n",
        "X = dataset.drop(['price_range'], axis=1)\n",
        "y = dataset['price_range']\n",
        "\n",
        "best_features = []\n",
        "for i in bs['features'][13:]:\n",
        "  best_features.append(i.strip())\n",
        "X = X[best_features]\n",
        "X_train, X_test, y_train, y_test = train_test_split(X, y, test_size=0.2, random_state=0)\n",
        "\n",
        "logisticRegr = LogisticRegression(max_iter=20000)\n",
        "logisticRegr.fit(X_train, y_train)\n",
        "\n",
        "predict_test = logisticRegr.predict(X_test[0:10])\n",
        "print('y:   ', list(y_test[0:10]))\n",
        "print('pred:', list(predict_test))\n",
        "\n",
        "score = logisticRegr.score(X_test, y_test)\n",
        "print('score', score)\n",
        "\n",
        "percision, recall, f1score, support = precision_recall_fscore_support(y_test, logisticRegr.predict(X_test))\n",
        "print('percision:', percision)\n",
        "print('recall:', recall)\n",
        "print('f1score:', f1score)"
      ],
      "execution_count": null,
      "outputs": [
        {
          "output_type": "stream",
          "text": [
            "y:    [3, 0, 2, 2, 2, 0, 0, 3, 3, 1]\n",
            "pred: [3, 0, 2, 2, 2, 0, 0, 3, 3, 1]\n",
            "score 0.9775\n",
            "percision: [0.97916667 0.97752809 0.96039604 0.99122807]\n",
            "recall: [0.98947368 0.94565217 0.97979798 0.99122807]\n",
            "f1score: [0.98429319 0.96132597 0.97       0.99122807]\n"
          ],
          "name": "stdout"
        }
      ]
    }
  ]
}